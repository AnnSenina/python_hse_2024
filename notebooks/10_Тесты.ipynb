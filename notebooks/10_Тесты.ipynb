{
  "nbformat": 4,
  "nbformat_minor": 0,
  "metadata": {
    "colab": {
      "provenance": [],
      "authorship_tag": "ABX9TyNcD5akwti389mHjRGX3Gvr",
      "include_colab_link": true
    },
    "kernelspec": {
      "name": "python3",
      "display_name": "Python 3"
    },
    "language_info": {
      "name": "python"
    }
  },
  "cells": [
    {
      "cell_type": "markdown",
      "metadata": {
        "id": "view-in-github",
        "colab_type": "text"
      },
      "source": [
        "<a href=\"https://colab.research.google.com/github/AnnSenina/python_hse_2024/blob/main/notebooks/10_%D0%A2%D0%B5%D1%81%D1%82%D1%8B.ipynb\" target=\"_parent\"><img src=\"https://colab.research.google.com/assets/colab-badge.svg\" alt=\"Open In Colab\"/></a>"
      ]
    },
    {
      "cell_type": "markdown",
      "source": [
        "# Тесты и проверка гипотез\n",
        "\n",
        "## критерий хи-квадрат\n",
        "\n",
        "Придуман Пирсоном - на этом критерии основано множество статистических измерений. Считается фундаментом современной статистики\n",
        "\n",
        "Критерий проверяет, есть ли соответсвие между двумя распределениями\n",
        "\n",
        "* критерий согласия Пирсона (проверка, согласуются ли распределения реальных данных и ожидаемых ИЛИ: согласуются ли 2 наблюдаемых распределения) + [документация](https://docs.scipy.org/doc/scipy/reference/generated/scipy.stats.chisquare.html)\n",
        "* тест независимости (проверка, являются ли две переменные (не)зависимыми) - самый полезный для нас + [документация](https://docs.scipy.org/doc/scipy/reference/generated/scipy.stats.chi2_contingency.html)\n",
        "\n",
        "(есть и многие другие метрики, основанные на хи-квадрат)\n",
        "\n",
        "**Важно! Как правило, наш главный показатель на сегодня - p-value (значимость, достоверность связи)**"
      ],
      "metadata": {
        "id": "BWicVJ6mEhFa"
      }
    },
    {
      "cell_type": "code",
      "source": [
        "# все import разом\n"
        "import numpy as np\n"
        "import pandas as pd\n"
        "import matplotlib.pyplot as plt\n"
        "import seaborn as sns\n"
        "import scipy.stats as stats\n"
        "from scipy.stats.contingency import association\n"
        "df = pd.read_csv('https://raw.githubusercontent.com/AnnSenina/Other/main/gender_preferences.csv', sep=',')\n",
        "df"
      ],
      "metadata": {
        "id": "lq42SFl3HaD5"
      },
      "execution_count": null,
      "outputs": []
    },
    {
      "cell_type": "code",
      "source": [
        "df_gender_color = pd.crosstab(df['Gender'], df['Favorite Color'])\n",
        "df_gender_color"
      ],
      "metadata": {
        "id": "xLlMKa8XHYxV"
      },
      "execution_count": null,
      "outputs": []
    },
    {
      "cell_type": "code",
      "source": [
        "# Проблема: Пирсон думал о больших числах!\n",
        "# Если в нашей таблице частот есть значения от 0 до 5 - критерий хи-квадрат не подходит\n",
        "df_gender_color = df_gender_color[['Cool', 'Warm']]\n",
        "df_gender_color"
      ],
      "metadata": {
        "id": "9YLC5XYvEmKD"
      },
      "execution_count": null,
      "outputs": []
    },
    {
      "cell_type": "code",
      "source": [
        "observed = [17,\t13]\n",
        "# пусть я (под властью стереотипов) ожидаю, что 25 из 30 женщин выберет теплые цвета\n",
        "\n",
        "expected = [5, 25] # ожидания\n",
        "\n",
        "chisq, p = stats.chisquare(observed, expected)\n",
        "\n",
        "print('χ² =', round(chisq, 2), 'p-value =',  round(p, 2))"
      ],
      "metadata": {
        "id": "C7WFA9qdFlxN"
      },
      "execution_count": null,
      "outputs": []
    },
    {
      "cell_type": "code",
      "source": [
        "# популярный вопрос от магистров: в p-value правда 0?\n",
        "p # нет, в коде выше округление до двух заков после запятой"
      ],
      "metadata": {
        "id": "gBhebFWML97x"
      },
      "execution_count": null,
      "outputs": []
    },
    {
      "cell_type": "code",
      "source": [
        "# обычно выбирают доверительный интервал 95%\n",
        "p < 0.05\n",
        "\n",
        "# H 0 : (нулевая гипотеза) Переменная следует за гипотетическим распределением.\n",
        "# H 1 : (альтернативная гипотеза) Переменная не подчиняется предполагаемому распределению.\n",
        "\n",
        "# Поскольку значение p меньше 0,05, мы можем отвергнуть нулевую гипотезу о согласованности распределений,\n",
        "# и принять альтернативную: одно распределение статистически отличается от другого\n",
        "\n",
        "# == данные выборки и наши ожидания не согласуются"
      ],
      "metadata": {
        "id": "z6k01xRvHRiU"
      },
      "execution_count": null,
      "outputs": []
    },
    {
      "cell_type": "code",
      "source": [
        "observed = [17,\t13]\n",
        "expected = [15, 15] # изменим гипотезу: я ожидала, что женщины одинаково часто выбирают теплые и холодные цвета\n",
        "\n",
        "chisq, p = stats.chisquare(observed, expected)\n",
        "\n",
        "print('χ² =', round(chisq, 2), 'p-value =',  round(p, 2))\n",
        "\n",
        "# что можем сказать о таком ожидании?\n",
        "# нельзя отвергнуть нулевую гипотезу == мы не доказали, что различия есть\n",
        "# -> статистически значимых различий в распределениях нет"
      ],
      "metadata": {
        "id": "isJ6-8BhJcXk"
      },
      "execution_count": null,
      "outputs": []
    },
    {
      "cell_type": "code",
      "source": [
        "# наконец, проверим, есть ли статистически значимые различия при выборе любимого цвета у мужчин и женщин\n",
        "\n",
        "df_gender_color = pd.crosstab(df['Gender'], df['Favorite Color'])\n",
        "df_gender_color = df_gender_color[['Cool', 'Warm']]\n",
        "df_gender_color"
      ],
      "metadata": {
        "id": "ogd9ikw48liG"
      },
      "execution_count": null,
      "outputs": []
    },
    {
      "cell_type": "code",
      "source": [
        "# проблема: к таким данным нельзя посчитать хи-квадрат:\n",
        "print(df_gender_color.loc['F'].sum())\n",
        "print(df_gender_color.loc['M'].sum())"
      ],
      "metadata": {
        "id": "I189DCQq9EtP"
      },
      "execution_count": null,
      "outputs": []
    },
    {
      "cell_type": "code",
      "source": [
        "# перейдем к процентам\n",
        "cold_warm = df[['Gender', 'Favorite Color']]\n",
        "cold_warm = cold_warm[cold_warm['Favorite Color'] != 'Neutral']\n",
        "df_gender_color = pd.crosstab(cold_warm['Gender'], cold_warm['Favorite Color'], normalize='index')\n",
        "df_gender_color"
      ],
      "metadata": {
        "id": "jWKq-GMZ6mBh"
      },
      "execution_count": null,
      "outputs": []
    },
    {
      "cell_type": "code",
      "source": [
        "chisq, p = stats.chisquare(df_gender_color.loc['F'], df_gender_color.loc['M'])[:2]\n",
        "\n",
        "print('χ² =', round(chisq, 2), 'p-value =',  round(p, 2))\n",
        "\n",
        "# нельзя отвергнуть нулевую гипотезу == мы не доказали, что различия есть\n",
        "# -> статистически значимых различий в распределениях нет"
      ],
      "metadata": {
        "id": "tavYA7Qo5xvE"
      },
      "execution_count": null,
      "outputs": []
    },
    {
      "cell_type": "markdown",
      "source": [
        "Как использовать в вашем исследовании:\n",
        "\n",
        "вы можете проверить какой-нибудь вывод из научной литературы и реальные данные из какой-то выборки"
      ],
      "metadata": {
        "id": "nJBHvohkJtw4"
      }
    },
    {
      "cell_type": "markdown",
      "source": [
        "### тест независимости хи-квадрат"
      ],
      "metadata": {
        "id": "lpJ6EwpIJ2i8"
      }
    },
    {
      "cell_type": "code",
      "source": [
        "df_gender_color"
      ],
      "metadata": {
        "id": "UnhT7qwAkJBd"
      },
      "execution_count": null,
      "outputs": []
    },
    {
      "cell_type": "code",
      "source": [
        "# тест независимости гораздо интереснее для нас - по логике ближе к корреляционному анализу\n",
        "\n",
        "# H 0 : (нулевая гипотеза) Две переменные независимы.\n",
        "# H 1 : (альтернативная гипотеза) Две переменные не являются независимыми = т.е. зависимые, совместно распределяются.\n",
        "\n",
        "chisq, p = stats.chi2_contingency(df_gender_color)[:2]\n",
        "\n",
        "print('χ² =', round(chisq, 2), 'p-value =',  round(p, 2))\n",
        "\n",
        "# p-value < 0.05?\n",
        "# нельзя отвернуть нулевую гипотезу о независимости переменных\n",
        "# == наши данные не позволяют подтвердить, что переменные зависимы, связаны"
      ],
      "metadata": {
        "id": "OtHMldTuKBTy"
      },
      "execution_count": null,
      "outputs": []
    },
    {
      "cell_type": "markdown",
      "source": [
        "## Точный тест Фишера\n",
        "\n",
        "Когда у нас небольшое количество значений (**таблица 2 на 2**), можно посчитать точный тест Фишера!\n",
        "\n",
        "Это хорошая альтернатива тесту независимости х-квадрат, считается, что искажения в этом тесте минимальны\n",
        "\n",
        "[Документация](https://docs.scipy.org/doc/scipy/reference/generated/scipy.stats.fisher_exact.html)\n",
        "\n",
        "**Важное отличие**: тест Фишера работает с разреженными выборками (значения частот могут быть менее 5)"
      ],
      "metadata": {
        "id": "We7CGGHNapVz"
      }
    },
    {
      "cell_type": "code",
      "source": [
        "df[\"Favorite Color\"]"
      ],
      "metadata": {
        "id": "lDE-EXXwt8xr"
      },
      "execution_count": null,
      "outputs": []
    },
    {
      "cell_type": "code",
      "source": [
        "df_cat = pd.get_dummies(df[\"Favorite Color\"]) # превращает категории в бинарные столбцы True / False\n",
        "df_cat['Gender'] = df['Gender']\n",
        "df_cat"
      ],
      "metadata": {
        "id": "PAW5xQEbdgHz"
      },
      "execution_count": null,
      "outputs": []
    },
    {
      "cell_type": "code",
      "source": [
        "pd.crosstab(df_cat['Gender'], df_cat['Neutral'])"
      ],
      "metadata": {
        "id": "E3BkzRnYcmVr"
      },
      "execution_count": null,
      "outputs": []
    },
    {
      "cell_type": "code",
      "source": [
        "# Точный тест Фишера использует следующие нулевые и альтернативные гипотезы (такие же, как тест независимости хи-квадрат):\n",
        "\n",
        "# H 0 : (нулевая гипотеза) Две переменные независимы.\n",
        "\n",
        "# H 1 : (альтернативная гипотеза) Две переменные не являются независимыми.\n",
        "\n",
        "fisher, p = stats.fisher_exact(pd.crosstab(df_cat['Gender'], df_cat['Warm']))\n",
        "\n",
        "print('значение теста =', round(fisher, 2), 'p-value =',  round(p, 2))\n",
        "\n",
        "# Переменные не связаны ИЛИ мы не смогли отвергнуть их независимость (лучше)\n",
        "# == Выбор нейтрального цвета не зависит от гендера"
      ],
      "metadata": {
        "id": "6d9Twq9LezeU"
      },
      "execution_count": null,
      "outputs": []
    },
    {
      "cell_type": "markdown",
      "source": [
        "## Коэффициент Крамера\n",
        "\n",
        "мера связи двух номинальных переменных на основе критерия хи-квадрат (= почти корреляционный анализ номинальных данных)\n",
        "\n",
        "[Документация](https://docs.scipy.org/doc/scipy/reference/generated/scipy.stats.contingency.association.html)\n",
        "\n",
        "\"Корреляция\" -> скорее про независимость"
      ],
      "metadata": {
        "id": "epbBTtttgRLW"
      }
    },
    {
      "cell_type": "code",
      "source": [
        "pd.crosstab(df_cat['Gender'], df_cat['Neutral'])"
      ],
      "metadata": {
        "id": "Le9bcmy0_aP9"
      },
      "execution_count": null,
      "outputs": []
    },
    {
      "cell_type": "code",
      "source": [
        "association(pd.crosstab(df_cat['Gender'], df_cat['Neutral']), method=\"cramer\")\n",
        "# проблема: нет p-value"
      ],
      "metadata": {
        "id": "LHgRy2cAgrPx"
      },
      "execution_count": null,
      "outputs": []
    },
    {
      "cell_type": "markdown",
      "source": [
        "Где взять p-value? Из критерия хи-квадрат\n",
        "\n",
        "Готового кода для того, чтобы вытащить p-value при подсчете коэффициента Крамера, в библиотеках нет\n",
        "\n",
        "* можно посчитать для этих же данных критерий независимости хи-квадрат\n",
        "* или найти того, кто уже это прикрутил в своей функции для подсчета коэффициента корреляции Крамера ([отсюда](https://github.com/glebmikha/mrstat/blob/master/mrstat.py))"
      ],
      "metadata": {
        "id": "dNMKQXEIhChk"
      }
    },
    {
      "cell_type": "code",
      "source": [
        "def vcramer(table):\n",
        "    chi, p, _, _ = stats.chi2_contingency(table,correction=False)\n",
        "    n = table.sum()\n",
        "    r,c = table.shape\n",
        "    return np.sqrt(chi/(n*(min(r,c)-1.))), p\n",
        "\n",
        "vcramer(pd.crosstab(df_cat['Gender'], df_cat['Neutral']).values)"
      ],
      "metadata": {
        "id": "Ibd-QKrdg-pQ"
      },
      "execution_count": null,
      "outputs": []
    },
    {
      "cell_type": "code",
      "source": [
        "vcram, p = vcramer(pd.crosstab(df_cat['Gender'], df_cat['Neutral']).values)\n",
        "\n",
        "print('значение теста =', round(vcram, 2), 'p-value =',  round(p, 2))"
      ],
      "metadata": {
        "id": "QuEoomNvhYOV"
      },
      "execution_count": null,
      "outputs": []
    },
    {
      "cell_type": "markdown",
      "source": [
        "Коэффициент Крамера необязательно считать в таблице 2 х 2, однако он чувствителен к размеру таблицы"
      ],
      "metadata": {
        "id": "8L3RHF2rHhvV"
      }
    }
  ]
}
