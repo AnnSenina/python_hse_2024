{
  "nbformat": 4,
  "nbformat_minor": 0,
  "metadata": {
    "colab": {
      "provenance": [],
      "authorship_tag": "ABX9TyNoX1AN6s2nVT8NZVddo5cJ",
      "include_colab_link": true
    },
    "kernelspec": {
      "name": "python3",
      "display_name": "Python 3"
    },
    "language_info": {
      "name": "python"
    }
  },
  "cells": [
    {
      "cell_type": "markdown",
      "metadata": {
        "id": "view-in-github",
        "colab_type": "text"
      },
      "source": [
        "<a href=\"https://colab.research.google.com/github/AnnSenina/python_hse_2024/blob/main/notebooks/12_%D0%9C%D0%BE%D0%B4%D0%B8%D1%84%D0%B8%D0%BA%D0%B0%D1%86%D0%B8%D0%B8_linreg.ipynb\" target=\"_parent\"><img src=\"https://colab.research.google.com/assets/colab-badge.svg\" alt=\"Open In Colab\"/></a>"
      ]
    },
    {
      "cell_type": "markdown",
      "source": [
        "# Усложняем линейную регрессию"
      ],
      "metadata": {
        "id": "wFCSGRPGRH4F"
      }
    },
    {
      "cell_type": "markdown",
      "source": [
        "Загрузите набор данных sandler.csv - набор данных для предсказания дохода от показа фильмов.\n",
        "\n",
        "Столбцы Date - дата премьеры, Title - название, Genre - жанр, Studio - студия Theaters - число кинотеатров, Opening Gross - доход от премьеры, Opening Theaters - число кинотеатров для премьеры, Gross - общий доход\n"
      ],
      "metadata": {
        "id": "z2lHbsi44l6Z"
      }
    },
    {
      "cell_type": "code",
      "source": [
        "# библиотеки\n",
        "import pandas as pd\n",
        "import seaborn as sns\n",
        "import matplotlib.pyplot as plt\n",
        "import scipy.stats\n",
        "from sklearn.model_selection import train_test_split\n",
        "from sklearn import metrics\n",
        "import numpy as np\n",
        "\n",
        "# новые импорты\n",
        "from sklearn.linear_model import LinearRegression, Ridge, Lasso, ElasticNet\n",
        "from sklearn.preprocessing import PolynomialFeatures"
      ],
      "metadata": {
        "id": "03c9iMCS41Eu"
      },
      "execution_count": 1,
      "outputs": []
    },
    {
      "cell_type": "code",
      "execution_count": null,
      "metadata": {
        "id": "VWnr6SOX4jUN"
      },
      "outputs": [],
      "source": [
        "df = pd.read_csv('https://raw.githubusercontent.com/AnnSenina/Other/main/sandler.csv')\n",
        "df.head()"
      ]
    },
    {
      "cell_type": "code",
      "source": [
        "# сделайте предобработку - она уже прописана\n",
        "df['Opening Theaters']=df['Opening Theaters'].apply(lambda x: x.replace(' ','',10).replace(\"$\",'',10))\n",
        "df['Theaters']=df['Theaters'].apply(lambda x: x.replace(' ','',10).replace(\"$\",'',10))\n",
        "df['Gross']=df['Gross'].apply(lambda x: x.replace(' ','',10).replace(\"$\",'',10))\n",
        "df['Opening Gross']=df['Opening Gross'].apply(lambda x: x.replace(' ','',10).replace(\"$\",'',10))\n",
        "df.drop(['Date','Title', 'Genre', 'Studio'], axis=1, inplace=True)\n",
        "df['Opening Theaters'] = pd.to_numeric( df['Opening Theaters'])\n",
        "df['Theaters'] = pd.to_numeric( df['Theaters'])\n",
        "df['Gross'] = pd.to_numeric( df['Gross'])\n",
        "df['Opening Gross'] = pd.to_numeric( df['Opening Gross'])"
      ],
      "metadata": {
        "id": "MXZ1yPTA4vGJ"
      },
      "execution_count": null,
      "outputs": []
    },
    {
      "cell_type": "code",
      "source": [
        "df.head()"
      ],
      "metadata": {
        "id": "dYDHoFUo4x-E"
      },
      "execution_count": null,
      "outputs": []
    },
    {
      "cell_type": "code",
      "source": [
        "sns.heatmap(df.corr(), cmap='RdYlGn', center=0, annot=True);\n",
        "# вывод: коллинеарность"
      ],
      "metadata": {
        "id": "DpaqAVxTgWOV"
      },
      "execution_count": null,
      "outputs": []
    },
    {
      "cell_type": "code",
      "source": [
        "sns.pairplot(df);\n",
        "# вывод2: для некоторых переменных кривая, возможно, подойдет больше прямой линии"
      ],
      "metadata": {
        "id": "TuWOb-GZ4-03"
      },
      "execution_count": null,
      "outputs": []
    },
    {
      "cell_type": "markdown",
      "source": [
        "# Регуляризация"
      ],
      "metadata": {
        "id": "6bFoRn_oYnXk"
      }
    },
    {
      "cell_type": "code",
      "source": [
        "x = df[['Theaters', 'Opening Gross', 'Opening Theaters']] # добавили показатели\n",
        "y = df['Gross']\n",
        "x_train, x_test, y_train, y_test = train_test_split(x, y, test_size = 0.3, random_state = 42)"
      ],
      "metadata": {
        "id": "8lwglCDLYmGt"
      },
      "execution_count": 43,
      "outputs": []
    },
    {
      "cell_type": "code",
      "source": [
        "model = LinearRegression().fit(x_train, y_train)\n",
        "y_pred = model.predict(x_test)"
      ],
      "metadata": {
        "id": "efXJePMxYzkz"
      },
      "execution_count": 44,
      "outputs": []
    },
    {
      "cell_type": "code",
      "source": [
        "r2 = metrics.r2_score(y_test, y_pred)\n",
        "meanAbErr = metrics.mean_absolute_error(y_test, y_pred)\n",
        "meanSqErr = metrics.mean_squared_error(y_test, y_pred)\n",
        "print('R squared:', r2)\n",
        "print('Mean Absolute Error:', meanAbErr)\n",
        "print('Mean Square Error:', meanSqErr)"
      ],
      "metadata": {
        "id": "pppywtaDY9r8"
      },
      "execution_count": null,
      "outputs": []
    },
    {
      "cell_type": "markdown",
      "source": [
        "Можно ли как-то сохранить этот высокий R-квадрат, сделав поправку на коллианерность?\n",
        "\n",
        "Регуляризация: изменение наклона линии путём ограничения весов модели, более высокое смещение корректируется за счет более низкой дисперсии (R в квадрате)\n",
        "\n",
        "Мы должны добавить к функции потерь параметр регуляризации, который будет штрафовать модель за величину коэффициентов.\n",
        "Чем больше параметр регуляризации, тем больше модель штрафуется за величину коэффициентов и их количество.\n",
        "В хорошей модели у релевантных признаков, хорошо объясняющих зависимую переменную, должны быть коэффициенты больше, чем у незначимых признаков."
      ],
      "metadata": {
        "id": "rUc4Hm7OZdWf"
      }
    },
    {
      "cell_type": "markdown",
      "source": [
        "**Lasso** имеет более выраженную тенденцию к занулению коэффициентов (=избавлению от признаков). Она может быть полезна, если вы:\n",
        "- Заведомо знаете, что не все признаки будут вам полезны;\n",
        "- Имеете ограничения по скорости построения предсказаний, и вам выгодно избавляться от “лишних” признаков;\n",
        "- Имеете выборку, где объектов меньше, чем признаков.\n",
        "\n",
        "**Гребневая регрессия** не зануляет коэффициенты, а скорее старается уменьшить слишком большие (сильнее всего занижает веса для признаков с высокой корреляцией). Этот метод подходит, если вы уверены, что все ваши независимые переменные будут иметь эффект на независимую, пусть небольшой.\n",
        "\n",
        "**Эластичная сеть** представляет собой комбинацию первых двух: может принести особую пользу в ситуациях, когда в данных необходимо одновременно выполнять отбор признаков и бороться с мультиколлинеарностью.\n"
      ],
      "metadata": {
        "id": "cTdHwYtPael3"
      }
    },
    {
      "cell_type": "code",
      "source": [
        "sk_lasso_regression = Lasso()\n",
        "sk_lasso_regression.fit(x_train, y_train)\n",
        "\n",
        "sk_lasso_pred_res = sk_lasso_regression.predict(x_test)\n",
        "\n",
        "Lasso_meanAbErr = metrics.mean_absolute_error(y_test, sk_lasso_pred_res)\n",
        "Lasso_meanSqErr = metrics.mean_squared_error(y_test, sk_lasso_pred_res)\n",
        "Lasso_r_score = metrics.r2_score(y_test, sk_lasso_pred_res)\n",
        "\n",
        "print(f'Lasso Mean Square Error: {Lasso_meanSqErr}')\n",
        "print(f'Lasso Mean Absolute Error: {Lasso_meanAbErr}')\n",
        "print(f'Lasso R2 score: {Lasso_r_score}')"
      ],
      "metadata": {
        "id": "3XloMzaJZfHL"
      },
      "execution_count": null,
      "outputs": []
    },
    {
      "cell_type": "code",
      "source": [
        "sk_ridge_regression = Ridge()\n",
        "sk_ridge_regression.fit(x_train, y_train)\n",
        "\n",
        "sk_ridge_pred_res = sk_ridge_regression.predict(x_test)\n",
        "\n",
        "ridge_meanAbErr = metrics.mean_absolute_error(y_test, sk_ridge_pred_res)\n",
        "ridge_meanSqErr = metrics.mean_squared_error(y_test, sk_ridge_pred_res)\n",
        "ridge_r_score = metrics.r2_score(y_test, sk_ridge_pred_res)\n",
        "\n",
        "print(f'Ridge Mean Square Error: {ridge_meanSqErr}')\n",
        "print(f'Ridge Mean Absolute Error: {ridge_meanAbErr}')\n",
        "print(f'Ridge R2 score: {ridge_r_score}')"
      ],
      "metadata": {
        "id": "5YyzwvdohnrT"
      },
      "execution_count": null,
      "outputs": []
    },
    {
      "cell_type": "code",
      "source": [
        "sk_elastic_net_regression = ElasticNet()\n",
        "sk_elastic_net_regression.fit(x_train, y_train)\n",
        "\n",
        "sk_elastic_net_pred_res = sk_elastic_net_regression.predict(x_test)\n",
        "\n",
        "EN_meanAbErr = metrics.mean_absolute_error(y_test, sk_elastic_net_pred_res)\n",
        "EN_meanSqErr = metrics.mean_squared_error(y_test, sk_elastic_net_pred_res)\n",
        "EN_r_score = metrics.r2_score(y_test, sk_elastic_net_pred_res)\n",
        "print(f'Ridge Mean Square Error: {EN_meanSqErr}')\n",
        "print(f'Ridge Mean Absolute Error: {EN_meanAbErr}')\n",
        "print(f'Ridge R2 score: {EN_r_score}')"
      ],
      "metadata": {
        "id": "5DbS0NRPitUP"
      },
      "execution_count": null,
      "outputs": []
    },
    {
      "cell_type": "code",
      "source": [
        "# бонус к кинотератам: преобразование данных может избавить от мультиколлинеарности и улучшить точность прогнозирования\n",
        "\n",
        "b = df['Opening Theaters'] / df['Theaters']  # доля театров, участвовавших в премьере\n",
        "c = df['Opening Gross'] / df['Opening Theaters']  # доход на 1 театр, участвовавший в премьере\n",
        "\n",
        "x = [[b, c]]\n",
        "# Дарья Гордеева"
      ],
      "metadata": {
        "id": "BIySwksvM7iB"
      },
      "execution_count": 13,
      "outputs": []
    },
    {
      "cell_type": "markdown",
      "source": [
        "# Полиномиальная регрессия"
      ],
      "metadata": {
        "id": "I8cJKUjhYlM2"
      }
    },
    {
      "cell_type": "code",
      "source": [
        "# сначала линейная регрессия с прошлой пары\n",
        "# функция линейной регрессии Y = a + bX\n",
        "\n",
        "x = df['Theaters']\n",
        "y = df[\"Gross\"]\n",
        "res = scipy.stats.linregress(x, y)\n",
        "print(res.rvalue**2)"
      ],
      "metadata": {
        "id": "UwWUvNq85Lty"
      },
      "execution_count": null,
      "outputs": []
    },
    {
      "cell_type": "code",
      "source": [
        "# функция линейной регрессии Y = a + bX\n",
        "\n",
        "plt.plot(x, y, 'o', label='оригинальные данные')\n",
        "plt.plot(x, res.intercept + res.slope*x, 'r', label='линия регрессии')\n",
        "plt.legend();\n",
        "# intercept - число, которое мы прибавляем в уравнении\n",
        "# slope - коэффициент для х"
      ],
      "metadata": {
        "id": "3f4Y1c1S5jjy"
      },
      "execution_count": null,
      "outputs": []
    },
    {
      "cell_type": "markdown",
      "source": [
        "В полиномиальной регрессии связь между независимой переменной x и зависимой переменной y моделируется как полином n-й степени от x.\n",
        "\n",
        "Полиномиальная регрессия аналогична линейной регрессии, за исключением того, что в уравнении используются разные степени x (x, x², x³…), в отличие от линейной регрессии, в которой используется только x.\n",
        "\n"
      ],
      "metadata": {
        "id": "TkKNp_2G52OJ"
      }
    },
    {
      "cell_type": "markdown",
      "source": [
        "Документация: [PolynomialFeatures](https://scikit-learn.org/stable/modules/generated/sklearn.preprocessing.PolynomialFeatures.html), [Polynomial and Spline interpolation¶](https://scikit-learn.org/stable/auto_examples/linear_model/plot_polynomial_interpolation.html#sphx-glr-auto-examples-linear-model-plot-polynomial-interpolation-py)"
      ],
      "metadata": {
        "id": "o4yYcCN8Ojtv"
      }
    },
    {
      "cell_type": "code",
      "source": [
        "X = df[['Theaters']].values\n",
        "y = df['Gross'].values\n",
        "\n",
        "regr = LinearRegression()\n",
        "\n",
        "quadratic = PolynomialFeatures(degree=2) # степени\n",
        "X_quad = quadratic.fit_transform(X)\n",
        "\n",
        "# fit features\n",
        "X_fit = np.arange(X.min(), X.max(), 1)[:, np.newaxis]\n",
        "\n",
        "regr = regr.fit(X_quad, y)\n",
        "y_quad_fit = regr.predict(quadratic.fit_transform(X_fit))\n",
        "quadratic_r2 = metrics.r2_score(y, regr.predict(X_quad))\n",
        "\n",
        "\n",
        "# plot results\n",
        "plt.scatter(X, y, color='lightgray')\n",
        "\n",
        "plt.plot(X_fit, y_quad_fit,\n",
        "         label='quadratic (d=2), $R^2={:.2f}$'.format(quadratic_r2),\n",
        "         color='red',\n",
        "         lw=2,\n",
        "         linestyle='-')\n",
        "\n",
        "plt.xlabel('Количество кинотеатров')\n",
        "plt.ylabel('Общий доход')\n",
        "plt.legend(loc='lower right');"
      ],
      "metadata": {
        "id": "8lbdlKkbL1gy"
      },
      "execution_count": null,
      "outputs": []
    },
    {
      "cell_type": "markdown",
      "source": [
        "Внимание, вопрос: стало лучше или хуже? Как понять, нужно ли искривлять линию дальше?"
      ],
      "metadata": {
        "id": "ijphq_qVmD50"
      }
    },
    {
      "cell_type": "code",
      "source": [
        "# посмотрим на ошибки при увеличении степени\n",
        "number_degrees = range(1, 11)\n",
        "plt_mean_squared_error = []\n",
        "for degree in number_degrees:\n",
        "\n",
        "   poly_model = PolynomialFeatures(degree=degree)\n",
        "\n",
        "   poly_x_values = poly_model.fit_transform(X)\n",
        "   poly_model.fit(poly_x_values, y)\n",
        "\n",
        "   regression_model = LinearRegression()\n",
        "   regression_model.fit(poly_x_values, y)\n",
        "   y_pred = regression_model.predict(poly_x_values)\n",
        "\n",
        "   plt_mean_squared_error.append(metrics.mean_squared_error(y, y_pred, squared=False))\n",
        "\n",
        "plt.scatter(number_degrees,plt_mean_squared_error, color=\"green\")\n",
        "plt.plot(number_degrees,plt_mean_squared_error, color=\"red\");"
      ],
      "metadata": {
        "id": "pisX8ExAmB5u"
      },
      "execution_count": null,
      "outputs": []
    },
    {
      "cell_type": "markdown",
      "source": [
        "# Практика\n",
        "\n",
        "- подберите подходящую степень для x\n",
        "- обучите модель\n"
      ],
      "metadata": {
        "id": "YAQtZAmbM9Wc"
      }
    },
    {
      "cell_type": "code",
      "source": [
        "import pandas as pd\n",
        "\n",
        "df = pd.read_csv('https://raw.githubusercontent.com/AnnSenina/Other/main/Ice_cream%20selling%20data.csv')\n",
        "df.head()"
      ],
      "metadata": {
        "id": "AMqK1ZypNHER"
      },
      "execution_count": null,
      "outputs": []
    },
    {
      "cell_type": "code",
      "source": [
        "x = df['Temperature (°C)']\n",
        "y = df[\"Ice Cream Sales (units)\"]\n",
        "res = scipy.stats.linregress(x, y)\n",
        "print(res.rvalue**2)"
      ],
      "metadata": {
        "id": "74VflvtJNJSn"
      },
      "execution_count": null,
      "outputs": []
    },
    {
      "cell_type": "code",
      "source": [
        "# функция линейной регрессии Y = a + bX\n",
        "\n",
        "plt.plot(x, y, 'o', label='оригинальные данные')\n",
        "plt.plot(x, res.intercept + res.slope*x, 'r', label='линия регрессии')\n",
        "plt.legend();"
      ],
      "metadata": {
        "id": "VKL5bti0NKlS"
      },
      "execution_count": null,
      "outputs": []
    },
    {
      "cell_type": "code",
      "source": [
        "# ваш код\n",
        "\n"
      ],
      "metadata": {
        "id": "F65tRV4XNO8T"
      },
      "execution_count": 22,
      "outputs": []
    },
    {
      "cell_type": "code",
      "source": [],
      "metadata": {
        "id": "zmgtd-d8NOz_"
      },
      "execution_count": 22,
      "outputs": []
    },
    {
      "cell_type": "markdown",
      "source": [
        "Возможное решение"
      ],
      "metadata": {
        "id": "qmeqr0ZsNlIR"
      }
    },
    {
      "cell_type": "code",
      "source": [
        "# @title\n",
        "X = df[['Temperature (°C)']].values\n",
        "y = df['Ice Cream Sales (units)'].values\n",
        "\n",
        "regr = LinearRegression()\n",
        "\n",
        "quadratic = PolynomialFeatures(degree=4) # степени\n",
        "X_quad = quadratic.fit_transform(X)\n",
        "\n",
        "# fit features\n",
        "X_fit = np.arange(X.min(), X.max(), 1)[:, np.newaxis]\n",
        "\n",
        "regr = regr.fit(X_quad, y)\n",
        "y_quad_fit = regr.predict(quadratic.fit_transform(X_fit))\n",
        "quadratic_r2 = metrics.r2_score(y, regr.predict(X_quad))\n",
        "\n",
        "\n",
        "# plot results\n",
        "plt.scatter(X, y, color='lightgray')\n",
        "\n",
        "plt.plot(X_fit, y_quad_fit,\n",
        "         label='d=4, $R^2={:.2f}$'.format(quadratic_r2),\n",
        "         color='red',\n",
        "         lw=2,\n",
        "         linestyle='-')\n",
        "\n",
        "plt.xlabel('Количество кинотеатров')\n",
        "plt.ylabel('Общий доход')\n",
        "plt.legend(loc='lower right');"
      ],
      "metadata": {
        "cellView": "form",
        "id": "TOgtxEGONkWR"
      },
      "execution_count": null,
      "outputs": []
    },
    {
      "cell_type": "code",
      "source": [
        "# @title\n",
        "# посмотрим на ошибки при увеличении степени\n",
        "number_degrees = range(1, 11)\n",
        "plt_mean_squared_error = []\n",
        "for degree in number_degrees:\n",
        "\n",
        "   poly_model = PolynomialFeatures(degree=degree)\n",
        "\n",
        "   poly_x_values = poly_model.fit_transform(X)\n",
        "   poly_model.fit(poly_x_values, y)\n",
        "\n",
        "   regression_model = LinearRegression()\n",
        "   regression_model.fit(poly_x_values, y)\n",
        "   y_pred = regression_model.predict(poly_x_values)\n",
        "\n",
        "   plt_mean_squared_error.append(metrics.mean_squared_error(y, y_pred, squared=False))\n",
        "\n",
        "plt.scatter(number_degrees,plt_mean_squared_error, color=\"green\")\n",
        "plt.plot(number_degrees,plt_mean_squared_error, color=\"red\");\n",
        "\n",
        "# например, возьмем 4 степень"
      ],
      "metadata": {
        "cellView": "form",
        "id": "whpPahlRNo1y"
      },
      "execution_count": null,
      "outputs": []
    }
  ]
}