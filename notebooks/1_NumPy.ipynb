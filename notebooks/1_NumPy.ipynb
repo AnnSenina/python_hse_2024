{
  "nbformat": 4,
  "nbformat_minor": 0,
  "metadata": {
    "colab": {
      "provenance": [],
      "authorship_tag": "ABX9TyO9B7Gawyx54jd3Zj0Rb23v",
      "include_colab_link": true
    },
    "kernelspec": {
      "name": "python3",
      "display_name": "Python 3"
    },
    "language_info": {
      "name": "python"
    }
  },
  "cells": [
    {
      "cell_type": "markdown",
      "metadata": {
        "id": "view-in-github",
        "colab_type": "text"
      },
      "source": [
        "<a href=\"https://colab.research.google.com/github/AnnSenina/python_hse_2024/blob/main/notebooks/1_NumPy.ipynb\" target=\"_parent\"><img src=\"https://colab.research.google.com/assets/colab-badge.svg\" alt=\"Open In Colab\"/></a>"
      ]
    },
    {
      "cell_type": "markdown",
      "source": [
        "# numpy\n",
        "\n",
        "Сайт: https://numpy.org/\n",
        "\n",
        "Документация: https://numpy.org/devdocs/user/whatisnumpy.html\n",
        "\n",
        "Вводный гайд: https://numpy.org/numpy-tutorials/\n",
        "\n",
        "Наглядно о том, как работает NumPy: https://habr.com/ru/companies/skillfactory/articles/564240/ (Хабр)"
      ],
      "metadata": {
        "id": "piyA-SPTcwJD"
      }
    },
    {
      "cell_type": "code",
      "source": [
        "# !pip install numpy\n",
        "import numpy as np"
      ],
      "metadata": {
        "id": "Drw2dRuMd_st"
      },
      "execution_count": null,
      "outputs": []
    },
    {
      "cell_type": "code",
      "execution_count": null,
      "metadata": {
        "colab": {
          "base_uri": "https://localhost:8080/"
        },
        "id": "bfq-NG8acq3S",
        "outputId": "86cdc3ec-fcac-41b3-fdf5-4aba10423269"
      },
      "outputs": [
        {
          "output_type": "stream",
          "name": "stdout",
          "text": [
            "[1, 2, 6, 10, 66, 54, 989, 1530]\n"
          ]
        }
      ],
      "source": [
        "# отличия от списков: 1\n",
        "list1 = [1, 2, 6, 10]\n",
        "list2 = [66, 54, 989, 1530]\n",
        "\n",
        "print(list1 + list2)"
      ]
    },
    {
      "cell_type": "code",
      "source": [
        "array1 = np.array([1, 2, 6, 10])\n",
        "print(array1)"
      ],
      "metadata": {
        "colab": {
          "base_uri": "https://localhost:8080/"
        },
        "id": "HfxVH3jfeIwR",
        "outputId": "a8e201bd-a032-414b-8756-87c3f276741f"
      },
      "execution_count": null,
      "outputs": [
        {
          "output_type": "stream",
          "name": "stdout",
          "text": [
            "[ 1  2  6 10]\n"
          ]
        }
      ]
    },
    {
      "cell_type": "code",
      "source": [
        "array2 = np.array([66, 54, 989, 1530])\n",
        "array1 + array2 # попарно сложились"
      ],
      "metadata": {
        "colab": {
          "base_uri": "https://localhost:8080/"
        },
        "id": "r_46cfJZeSa5",
        "outputId": "e5018580-69d7-46a7-e81a-72d05cc55cab"
      },
      "execution_count": null,
      "outputs": [
        {
          "output_type": "execute_result",
          "data": {
            "text/plain": [
              "array([  67,   56,  995, 1540])"
            ]
          },
          "metadata": {},
          "execution_count": 4
        }
      ]
    },
    {
      "cell_type": "code",
      "source": [
        "# отличия от списков: 2\n",
        "list3 = [1, 2, 3, 4, 5, '6']\n",
        "array3 = np.array([1, 2, 3, 4, 5, '6'])\n",
        "print(array3)\n",
        "array3 = np.array([1, 0, 1, 1, 0, False])\n",
        "print(array3) # только один тип данных"
      ],
      "metadata": {
        "colab": {
          "base_uri": "https://localhost:8080/"
        },
        "id": "pSyyuQQMfqdI",
        "outputId": "6712d6b4-450f-4a5f-e94d-b83df723c48f"
      },
      "execution_count": null,
      "outputs": [
        {
          "output_type": "stream",
          "name": "stdout",
          "text": [
            "['1' '2' '3' '4' '5' '6']\n",
            "[1 0 1 1 0 0]\n"
          ]
        }
      ]
    },
    {
      "cell_type": "markdown",
      "source": [
        "Еще немного об операциях с массивами"
      ],
      "metadata": {
        "id": "6AFT6nRrgfHP"
      }
    },
    {
      "cell_type": "code",
      "source": [
        "array1 = np.array([1, 2, 6, 10])\n",
        "array1 > 5 # такая же логика будет при фильтрации датафрейма"
      ],
      "metadata": {
        "colab": {
          "base_uri": "https://localhost:8080/"
        },
        "id": "ecGhCbYbt3EM",
        "outputId": "a75c582e-6f29-421f-f6a6-3f9ebf046838"
      },
      "execution_count": null,
      "outputs": [
        {
          "output_type": "execute_result",
          "data": {
            "text/plain": [
              "array([False, False,  True,  True])"
            ]
          },
          "metadata": {},
          "execution_count": 7
        }
      ]
    },
    {
      "cell_type": "code",
      "source": [
        "arr = np.array([1, 2, 3, 4, 5])\n",
        "\n",
        "print(arr.max(), arr.min(), arr.sum(), arr.mean(), sep=', ')\n",
        "\n",
        "arr = np.sqrt(arr)\n",
        "print(arr)\n",
        "\n",
        "arr = np.sin(arr)\n",
        "print(arr)\n",
        "\n",
        "arr = np.cos(arr)\n",
        "print(arr)\n",
        "\n",
        "arr = np.log(arr)\n",
        "print(arr)\n",
        "\n",
        "arr = np.exp(arr)\n",
        "print(arr)"
      ],
      "metadata": {
        "colab": {
          "base_uri": "https://localhost:8080/"
        },
        "id": "aZEkUiu1uVZM",
        "outputId": "5d61afbb-39fd-42fc-ff84-d4ebcf979320"
      },
      "execution_count": null,
      "outputs": [
        {
          "output_type": "stream",
          "name": "stdout",
          "text": [
            "5, 1, 15, 3.0\n",
            "[1.         1.41421356 1.73205081 2.         2.23606798]\n",
            "[0.84147098 0.98776595 0.98702664 0.90929743 0.78674913]\n",
            "[0.66636675 0.55055622 0.55117323 0.61430028 0.70615086]\n",
            "[-0.40591509 -0.59682621 -0.59570612 -0.48727141 -0.34792639]\n",
            "[0.66636675 0.55055622 0.55117323 0.61430028 0.70615086]\n"
          ]
        }
      ]
    },
    {
      "cell_type": "code",
      "source": [
        "print(array1 * array2) # объекты попарно перемножились\n",
        "print(np.dot(array1, array2)) # .dot() - скалярное произведение массивов"
      ],
      "metadata": {
        "colab": {
          "base_uri": "https://localhost:8080/"
        },
        "id": "uCyfwXR1ehd1",
        "outputId": "44f80c79-d0ba-42f8-9450-19ae81756ea2"
      },
      "execution_count": null,
      "outputs": [
        {
          "output_type": "stream",
          "name": "stdout",
          "text": [
            "[   66   108  5934 15300]\n",
            "21408\n"
          ]
        }
      ]
    },
    {
      "cell_type": "code",
      "source": [
        "# идексация\n",
        "print(array1)\n",
        "print(array1[0])\n",
        "print(array1[2:])"
      ],
      "metadata": {
        "colab": {
          "base_uri": "https://localhost:8080/"
        },
        "id": "qlmX5tzIfIvz",
        "outputId": "396b8443-9dc4-426a-d18d-34956a43d3f8"
      },
      "execution_count": null,
      "outputs": [
        {
          "output_type": "stream",
          "name": "stdout",
          "text": [
            "[ 1  2  6 10]\n",
            "1\n",
            "[ 6 10]\n"
          ]
        }
      ]
    },
    {
      "cell_type": "code",
      "source": [
        "array4 = np.array([[1,2],[3,4]])\n",
        "print(array4)\n",
        "print(array4[0])\n",
        "print(array4[0][1])"
      ],
      "metadata": {
        "colab": {
          "base_uri": "https://localhost:8080/"
        },
        "id": "2b9jw3Q5fcfo",
        "outputId": "ad58b0f7-76b1-44fd-a7f9-1f0120632d84"
      },
      "execution_count": null,
      "outputs": [
        {
          "output_type": "stream",
          "name": "stdout",
          "text": [
            "[[1 2]\n",
            " [3 4]]\n",
            "[1 2]\n",
            "2\n"
          ]
        }
      ]
    },
    {
      "cell_type": "code",
      "source": [
        "matrix = np.array([[1, 2, 3],\n",
        "                   [4, 5, 6],\n",
        "                   [7, 8, 9]])\n",
        "print(matrix)\n",
        "print(matrix[0]) # 1 строка\n",
        "print(matrix[0,2]) # 3 элемент 1 строки\n",
        "print(matrix[:, 2]) # 3 столбец"
      ],
      "metadata": {
        "colab": {
          "base_uri": "https://localhost:8080/"
        },
        "id": "GbVTRhZ7ilS3",
        "outputId": "2dc8d770-36a3-4c96-d04d-263a6d86bbee"
      },
      "execution_count": null,
      "outputs": [
        {
          "output_type": "stream",
          "name": "stdout",
          "text": [
            "[[1 2 3]\n",
            " [4 5 6]\n",
            " [7 8 9]]\n",
            "[1 2 3]\n",
            "3\n",
            "[3 6 9]\n"
          ]
        }
      ]
    },
    {
      "cell_type": "code",
      "source": [
        "print(array1)\n",
        "print(array1.shape) # размерность"
      ],
      "metadata": {
        "colab": {
          "base_uri": "https://localhost:8080/"
        },
        "id": "byyYfnczkQyv",
        "outputId": "4fe71316-4709-42b1-df14-2f95b3641ae7"
      },
      "execution_count": null,
      "outputs": [
        {
          "output_type": "stream",
          "name": "stdout",
          "text": [
            "[ 1  2  6 10]\n",
            "(4,)\n"
          ]
        }
      ]
    },
    {
      "cell_type": "code",
      "source": [
        "print(matrix)\n",
        "print(matrix.shape) # размерность"
      ],
      "metadata": {
        "colab": {
          "base_uri": "https://localhost:8080/"
        },
        "id": "GMaIfO16kjMb",
        "outputId": "a365b28e-e7b6-4dec-f2c3-d019a30f06a4"
      },
      "execution_count": null,
      "outputs": [
        {
          "output_type": "stream",
          "name": "stdout",
          "text": [
            "[[1 2 3]\n",
            " [4 5 6]\n",
            " [7 8 9]]\n",
            "(3, 3)\n"
          ]
        }
      ]
    },
    {
      "cell_type": "markdown",
      "source": [
        "Случайные числа"
      ],
      "metadata": {
        "id": "pf3eDuaLlZLf"
      }
    },
    {
      "cell_type": "code",
      "source": [
        "a = np.random.rand(10) # 10 случаных чисел\n",
        "print(a)\n",
        "b = np.random.rand(3, 2) # 3 строки, 2 столбца слуайных чисел\n",
        "print(b)"
      ],
      "metadata": {
        "colab": {
          "base_uri": "https://localhost:8080/"
        },
        "id": "ujYw8hC1k9Nt",
        "outputId": "cb33b111-f8cd-463a-fb7e-f967520410c9"
      },
      "execution_count": null,
      "outputs": [
        {
          "output_type": "stream",
          "name": "stdout",
          "text": [
            "[0.75062945 0.3828088  0.7088944  0.70689522 0.44524351 0.24995969\n",
            " 0.05684535 0.7781957  0.63415288 0.2627122 ]\n",
            "[[0.74289817 0.99967497]\n",
            " [0.88623247 0.44656734]\n",
            " [0.13658744 0.07324454]]\n"
          ]
        }
      ]
    },
    {
      "cell_type": "code",
      "source": [
        "c = np.random.randint(-10, 10)\n",
        "print(c)\n",
        "d = np.random.randint(-10, 10, size=5)\n",
        "print(d)\n",
        "e = np.random.randint(-10, 10, size=[2, 5])\n",
        "print(e)"
      ],
      "metadata": {
        "colab": {
          "base_uri": "https://localhost:8080/"
        },
        "id": "YIuCj83zly-b",
        "outputId": "e3be6c21-3216-4287-d890-beac2cc13f19"
      },
      "execution_count": null,
      "outputs": [
        {
          "output_type": "stream",
          "name": "stdout",
          "text": [
            "-7\n",
            "[  4   8 -10  -2  -8]\n",
            "[[ 4  6  9 -6 -3]\n",
            " [ 3 -6  3 -3  1]]\n"
          ]
        }
      ]
    },
    {
      "cell_type": "code",
      "source": [
        "# изменение размерности массива\n",
        "e = np.random.randint(-10, 10, size=[2, 5])\n",
        "print(e)\n",
        "print(e.reshape(5, 2))\n",
        "print(e.reshape(10, 1))\n",
        "print(e.reshape(1, 10))"
      ],
      "metadata": {
        "colab": {
          "base_uri": "https://localhost:8080/"
        },
        "id": "ml7732romRYs",
        "outputId": "1b52c8fa-44a1-40c5-99a2-0d21564a2254"
      },
      "execution_count": null,
      "outputs": [
        {
          "output_type": "stream",
          "name": "stdout",
          "text": [
            "[[-5 -3 -2  4 -9]\n",
            " [ 1  7  0  3  3]]\n",
            "[[-5 -3]\n",
            " [-2  4]\n",
            " [-9  1]\n",
            " [ 7  0]\n",
            " [ 3  3]]\n",
            "[[-5]\n",
            " [-3]\n",
            " [-2]\n",
            " [ 4]\n",
            " [-9]\n",
            " [ 1]\n",
            " [ 7]\n",
            " [ 0]\n",
            " [ 3]\n",
            " [ 3]]\n",
            "[[-5 -3 -2  4 -9  1  7  0  3  3]]\n"
          ]
        }
      ]
    },
    {
      "cell_type": "markdown",
      "source": [
        "### Практика:\n",
        "\n",
        "У вас есть массив из миллиона случаных чисел. Умножьте каждое из них на 100 с помощью цикла for / умножения массива numpy, измерив время выполнения команды\n"
      ],
      "metadata": {
        "id": "Ih_4XbcTniVF"
      }
    },
    {
      "cell_type": "code",
      "source": [
        "n = np.random.rand(1000000)\n",
        "n"
      ],
      "metadata": {
        "colab": {
          "base_uri": "https://localhost:8080/"
        },
        "id": "DHTGjKl7ntab",
        "outputId": "57ca1bca-3428-45b0-ce91-cb5b7872d64c"
      },
      "execution_count": null,
      "outputs": [
        {
          "output_type": "execute_result",
          "data": {
            "text/plain": [
              "array([0.17317585, 0.73966029, 0.75080392, ..., 0.00349941, 0.88605461,\n",
              "       0.24925598])"
            ]
          },
          "metadata": {},
          "execution_count": 30
        }
      ]
    },
    {
      "cell_type": "code",
      "source": [
        "%%time\n",
        "# создайте пустой список и добавьте в него все элементы, умножая каждый на 100\n"
      ],
      "metadata": {
        "id": "7ueJsIUAn6WU"
      },
      "execution_count": null,
      "outputs": []
    },
    {
      "cell_type": "code",
      "source": [
        "%%time\n",
        "# умножьте массив n на 100\n"
      ],
      "metadata": {
        "id": "RD8XK9orn6JX"
      },
      "execution_count": null,
      "outputs": []
    },
    {
      "cell_type": "code",
      "source": [
        "# @title\n",
        "%%timeit\n",
        "\n",
        "res = []\n",
        "for i in n:\n",
        "  res.append(i * 100)"
      ],
      "metadata": {
        "cellView": "form",
        "id": "XyKbIZNvqA_t"
      },
      "execution_count": null,
      "outputs": []
    },
    {
      "cell_type": "code",
      "source": [
        "# @title\n",
        "%%time\n",
        "\n",
        "res = n * 100"
      ],
      "metadata": {
        "cellView": "form",
        "id": "yIphXIAUp2yX"
      },
      "execution_count": null,
      "outputs": []
    }
  ]
}