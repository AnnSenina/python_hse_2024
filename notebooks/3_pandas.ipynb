{
  "nbformat": 4,
  "nbformat_minor": 0,
  "metadata": {
    "colab": {
      "provenance": [],
      "authorship_tag": "ABX9TyO8hSjI9AcmIKtuxywM+41i",
      "include_colab_link": true
    },
    "kernelspec": {
      "name": "python3",
      "display_name": "Python 3"
    },
    "language_info": {
      "name": "python"
    }
  },
  "cells": [
    {
      "cell_type": "markdown",
      "metadata": {
        "id": "view-in-github",
        "colab_type": "text"
      },
      "source": [
        "<a href=\"https://colab.research.google.com/github/AnnSenina/python_hse_2024/blob/main/notebooks/3_pandas.ipynb\" target=\"_parent\"><img src=\"https://colab.research.google.com/assets/colab-badge.svg\" alt=\"Open In Colab\"/></a>"
      ]
    },
    {
      "cell_type": "markdown",
      "source": [
        "# Операции с датафреймами\n",
        "\n",
        "* Повторение: открытие df\n",
        "* Работа со столбцами, выбор нескольких столбцов\n",
        "* Типы данных: изменение типа данных (новые: category, dt)\n",
        "* Перекодирование переменных. Понижение шкалы\n",
        "  * for + if (медленный способ)\n",
        "  * def + apply\n",
        "  * lambda и списковые включение (list comprehensions)\n",
        "  * из номинальных в бинарные переменные\n",
        "* Соединение df"
      ],
      "metadata": {
        "id": "mu_--HR3CXmF"
      }
    },
    {
      "cell_type": "markdown",
      "source": [
        "## 1. Открытие файлов"
      ],
      "metadata": {
        "id": "Y6xlt0AYLkUw"
      }
    },
    {
      "cell_type": "code",
      "execution_count": null,
      "metadata": {
        "id": "m6_1ztdrCBcz"
      },
      "outputs": [],
      "source": [
        "import pandas as pd\n",
        "\n",
        "df1 = pd.read_csv('https://raw.githubusercontent.com/AnnSenina/Other/main/BikeDataVar.csv')\n",
        "# ИЛИ, если файл загружен в среду:\n",
        "# df1 = pd.read_csv('BikeDataVar.csv')\n",
        "\n",
        "# аргументы:\n",
        "# sep=',' по умолчанию, можно изменить\n",
        "# decimal='.' по умолчанию, можно изменить\n",
        "\n",
        "df1.head(3)"
      ]
    },
    {
      "cell_type": "code",
      "source": [
        "# в других средах, кроме колаб: может потребоваться\n",
        "# !pip install openpyxl\n",
        "\n",
        "df2 = pd.read_excel('BikeDataVar.xlsx')\n",
        "df2.head(3)\n",
        "\n",
        "# аргументы:\n",
        "# sheet_name='Лист1', можно открыть конкретный лист\n",
        "# skiprows=2, можно пропустить несколько строк"
      ],
      "metadata": {
        "id": "VQc36BclLcF3"
      },
      "execution_count": null,
      "outputs": []
    },
    {
      "cell_type": "code",
      "source": [
        "data = pd.read_html('https://www.cbr.ru/currency_base/daily/')\n",
        "data # возвращается список таблиц, т.к. на сайте их может быть несколько"
      ],
      "metadata": {
        "id": "cuC1SHXMNGnP"
      },
      "execution_count": null,
      "outputs": []
    },
    {
      "cell_type": "code",
      "source": [
        "data[0]"
      ],
      "metadata": {
        "id": "9m0a9tDHNgTR"
      },
      "execution_count": null,
      "outputs": []
    },
    {
      "cell_type": "markdown",
      "source": [
        "### Практика"
      ],
      "metadata": {
        "id": "kdbK8FeFUMko"
      }
    },
    {
      "cell_type": "markdown",
      "source": [
        "загрузите 9 таблицу со страницы https://ru.wikipedia.org/wiki/%D0%A1%D0%BF%D0%B8%D1%81%D0%BE%D0%BA_%D0%B3%D0%BB%D0%B0%D0%B2_%D0%90%D0%B2%D1%81%D1%82%D1%80%D0%B8%D0%B8\n",
        "\n",
        "\n",
        "Франц I, Фердинанд I, Франц Иосиф I и т.д."
      ],
      "metadata": {
        "id": "PKEHsu-PUVZB"
      }
    },
    {
      "cell_type": "code",
      "source": [
        "# ваше решение:\n",
        "\n"
      ],
      "metadata": {
        "id": "akn2JtZ4OyuX"
      },
      "execution_count": null,
      "outputs": []
    },
    {
      "cell_type": "code",
      "source": [
        "# @title\n",
        "data = pd.read_html('https://ru.wikipedia.org/wiki/%D0%A1%D0%BF%D0%B8%D1%81%D0%BE%D0%BA_%D0%B3%D0%BB%D0%B0%D0%B2_%D0%90%D0%B2%D1%81%D1%82%D1%80%D0%B8%D0%B8')\n",
        "data[8]"
      ],
      "metadata": {
        "cellView": "form",
        "id": "vLUa0145OWV6"
      },
      "execution_count": null,
      "outputs": []
    },
    {
      "cell_type": "markdown",
      "source": [
        "### Бонус"
      ],
      "metadata": {
        "id": "0-dBOjdDUPzw"
      }
    },
    {
      "cell_type": "code",
      "source": [
        "# чтение json\n",
        "myjson = \"\"\"\n",
        "[\n",
        "{\n",
        "    \"firstName\": \"Анна\",\n",
        "    \"lastName\": \"Сенина\"\n",
        "},\n",
        "{\n",
        "    \"firstName\": \"Никита\",\n",
        "    \"lastName\": \"Маткин\"\n",
        "}\n",
        "]\n",
        "\"\"\"\n",
        "\n",
        "df3 = pd.read_json(myjson)\n",
        "df3"
      ],
      "metadata": {
        "id": "_TwIXW3BTCK5"
      },
      "execution_count": null,
      "outputs": []
    },
    {
      "cell_type": "code",
      "source": [
        "# загрузим метаданные DraCor\n",
        "\n",
        "import requests\n",
        "import pandas as pd\n",
        "json_url = 'https://dracor.org/api/corpora/rus/metadata'\n",
        "response = requests.get(json_url)\n",
        "\n",
        "df4 = pd.read_json(response.text)\n",
        "df4.head(3)"
      ],
      "metadata": {
        "id": "7WJxyGaBSn9n"
      },
      "execution_count": null,
      "outputs": []
    },
    {
      "cell_type": "markdown",
      "source": [
        "## Работа со столбцами, выбор нескольких столбцов"
      ],
      "metadata": {
        "id": "MnANyDzMUYOV"
      }
    },
    {
      "cell_type": "code",
      "source": [
        "df1 = pd.read_csv('https://raw.githubusercontent.com/AnnSenina/Other/main/BikeDataVar.csv')\n",
        "df1.head(3)"
      ],
      "metadata": {
        "id": "fU2Jbx3MUcSw"
      },
      "execution_count": null,
      "outputs": []
    },
    {
      "cell_type": "code",
      "source": [
        "# мы можем собрать небольшой датафрейм, выбрав только нужные столбцы\n",
        "df1.columns"
      ],
      "metadata": {
        "id": "HBJ0kZciWSsO"
      },
      "execution_count": null,
      "outputs": []
    },
    {
      "cell_type": "code",
      "source": [
        "mini = df1[['Date', 'Hour', 'Temperature', 'Humidity', 'Seasons', 'Rental Count']]\n",
        "mini\n",
        "\n",
        "# обычно я предпочитаю не удалять столбцы, а работать с выбранными, если нужна компактная таблица"
      ],
      "metadata": {
        "id": "vyUB3daSW1Jl"
      },
      "execution_count": null,
      "outputs": []
    },
    {
      "cell_type": "code",
      "source": [
        "df1[df1.columns[:5]] # можно задать срез нужных столбцов"
      ],
      "metadata": {
        "id": "E325wpWLXG0L"
      },
      "execution_count": null,
      "outputs": []
    },
    {
      "cell_type": "code",
      "source": [
        "df1[['Rental Count', 'Date']] # или поменять их порядок"
      ],
      "metadata": {
        "id": "06PM_T76XRQR"
      },
      "execution_count": null,
      "outputs": []
    },
    {
      "cell_type": "code",
      "source": [
        "# столбцы можно складывать, вычитать, умножать, делить и мн.другое - подобно массивам numpy\n",
        "df1['Rainfall'] + df1['Snowfall']"
      ],
      "metadata": {
        "id": "7zr3pxP8Z2ds"
      },
      "execution_count": null,
      "outputs": []
    },
    {
      "cell_type": "code",
      "source": [
        "df1['Snow_or_rain'] = df1['Rainfall'] + df1['Snowfall']\n",
        "df1.head()"
      ],
      "metadata": {
        "id": "Ts96I4_faNSN"
      },
      "execution_count": null,
      "outputs": []
    },
    {
      "cell_type": "markdown",
      "source": [
        "## Типы данных\n",
        "\n",
        "На основе [этой](https://dfedorov.spb.ru/pandas/%D0%9E%D0%B1%D0%B7%D0%BE%D1%80%20%D1%82%D0%B8%D0%BF%D0%BE%D0%B2%20%D0%B4%D0%B0%D0%BD%D0%BD%D1%8B%D1%85%20pandas.html) тетрадки"
      ],
      "metadata": {
        "id": "XE4xlUgvWkyI"
      }
    },
    {
      "cell_type": "markdown",
      "source": [
        "<table>\n",
        "<thead><tr>\n",
        "<th>Pandas</th>\n",
        "<th>Python</th>\n",
        "<th>NumPy</th>\n",
        "<th>Использование</th>\n",
        "</tr>\n",
        "</thead>\n",
        "<tbody>\n",
        "<tr>\n",
        "<td>object</td>\n",
        "<td>str или разные</td>\n",
        "<td>string<em>, unicode</em>, смешанные типы</td>\n",
        "<td>Текстовые или смешанные числовые и нечисловые значения</td>\n",
        "</tr>\n",
        "<tr>\n",
        "<td>int64</td>\n",
        "<td>int</td>\n",
        "<td>int_, int8, int16, int32, int64, uint8, uint16, uint32, uint64</td>\n",
        "<td>Целые числа</td>\n",
        "</tr>\n",
        "<tr>\n",
        "<td>float64</td>\n",
        "<td>float</td>\n",
        "<td>float_, float16, float32, float64</td>\n",
        "<td>Числа с плавающей точкой</td>\n",
        "</tr>\n",
        "<tr>\n",
        "<td>bool</td>\n",
        "<td>bool</td>\n",
        "<td>bool_</td>\n",
        "<td>Значения True/False</td>\n",
        "</tr>\n",
        "<tr>\n",
        "<td>datetime64[ns]</td>\n",
        "<td>datetime</td>\n",
        "<td>datetime64[ns]</td>\n",
        "<td>Значения даты и времени</td>\n",
        "</tr>\n",
        "<tr>\n",
        "<td>category</td>\n",
        "<td>NA</td>\n",
        "<td>NA</td>\n",
        "<td>Ограниченный список текстовых значений</td>\n",
        "</tr>\n",
        "</tbody>\n",
        "</table>\n"
      ],
      "metadata": {
        "id": "pTtlnpP2YfA6"
      }
    },
    {
      "cell_type": "markdown",
      "source": [
        "### Категориальные данные\n",
        "\n",
        "Их можно оставить object (строка), но лучше преобразовать в тип данных category\n",
        "\n",
        "Подробнее о том, зачем это делать, [здесь](https://dfedorov.spb.ru/pandas/%D0%98%D1%81%D0%BF%D0%BE%D0%BB%D1%8C%D0%B7%D0%BE%D0%B2%D0%B0%D0%BD%D0%B8%D0%B5%20%D1%82%D0%B8%D0%BF%D0%B0%20%D0%B4%D0%B0%D0%BD%D0%BD%D1%8B%D1%85%20%D0%BA%D0%B0%D1%82%D0%B5%D0%B3%D0%BE%D1%80%D0%B8%D0%B8%20%D0%B2%20pandas.html#:~:text=%D0%A2%D0%B8%D0%BF%20%D0%B4%D0%B0%D0%BD%D0%BD%D1%8B%D1%85%20%D0%BA%D0%B0%D1%82%D0%B5%D0%B3%D0%BE%D1%80%D0%B8%D0%B8%20(%20category%20data,%D0%B8%20%D0%B1%D0%BE%D0%BB%D0%B5%D0%B5%20%D1%8D%D1%84%D1%84%D0%B5%D0%BA%D1%82%D0%B8%D0%B2%D0%BD%D0%BE%20%D0%B8%D1%85%20%D1%85%D1%80%D0%B0%D0%BD%D0%B8%D1%82%D1%8C.)"
      ],
      "metadata": {
        "id": "y-FvBje2WEZ2"
      }
    },
    {
      "cell_type": "code",
      "source": [
        "df1['Temperature Category'].astype('category')"
      ],
      "metadata": {
        "id": "irt0IXFtXzg3"
      },
      "execution_count": null,
      "outputs": []
    },
    {
      "cell_type": "code",
      "source": [
        "df1['Temperature Category'] = df1['Temperature Category'].astype('category') # перезапишем столбец"
      ],
      "metadata": {
        "id": "vPlVTQrfYF4x"
      },
      "execution_count": 67,
      "outputs": []
    },
    {
      "cell_type": "code",
      "source": [
        "df1.info()"
      ],
      "metadata": {
        "id": "UjxTAhUGYJJQ"
      },
      "execution_count": null,
      "outputs": []
    },
    {
      "cell_type": "markdown",
      "source": [
        "### Даты"
      ],
      "metadata": {
        "id": "66zOXW5kYb3s"
      }
    },
    {
      "cell_type": "code",
      "source": [
        "df1['Date'] = df1['Date'].astype('datetime64[ns]')"
      ],
      "metadata": {
        "id": "O6sK9yEKYab9"
      },
      "execution_count": null,
      "outputs": []
    },
    {
      "cell_type": "code",
      "source": [
        "df1.info()"
      ],
      "metadata": {
        "id": "krRdXSZpnmDn"
      },
      "execution_count": null,
      "outputs": []
    },
    {
      "cell_type": "code",
      "source": [
        "# примеры с датами в разных форматах\n",
        "pd.Series(['05/23/2005']).astype('datetime64[ns]')"
      ],
      "metadata": {
        "id": "AiyPZNP9eecS"
      },
      "execution_count": null,
      "outputs": []
    },
    {
      "cell_type": "code",
      "source": [
        "pd.to_datetime(pd.Series(['05/23/2005']), format=\"%m/%d/%Y\")"
      ],
      "metadata": {
        "id": "GYReHD5deZQ6"
      },
      "execution_count": null,
      "outputs": []
    },
    {
      "cell_type": "markdown",
      "source": [
        "Во многом, такие преобразования нужны, поскольку pandas умеет по дате получить день, месяц, год, день недели, номер недели, квартал и мн.другое"
      ],
      "metadata": {
        "id": "_rK90_MvewDH"
      }
    },
    {
      "cell_type": "code",
      "source": [
        "df1['Date'] = df1['Date'].astype('datetime64[ns]')\n",
        "df1['Date'].dt.day\n",
        "# dt.month\n",
        "# dt.year\n",
        "# dt.isocalendar().week\n",
        "# dt.days_in_month\n",
        "# dt.day_of_year\n",
        "# dt.day_of_week\n",
        "# dt.day_name()\n",
        "# df.quarter"
      ],
      "metadata": {
        "id": "2eC7RjQYevba"
      },
      "execution_count": null,
      "outputs": []
    },
    {
      "cell_type": "markdown",
      "source": [
        "### Пратика\n",
        "\n",
        "Добавьте в датафрейм столбец с именем day_of_week, в котром будет **название** для недели"
      ],
      "metadata": {
        "id": "YITidGC7gacl"
      }
    },
    {
      "cell_type": "code",
      "source": [
        "# ваш код\n",
        "\n"
      ],
      "metadata": {
        "id": "lcER-Gx4gYyS"
      },
      "execution_count": null,
      "outputs": []
    },
    {
      "cell_type": "code",
      "source": [
        "# @title\n",
        "\n",
        "df1['day_of_week'] = df1['Date'].dt.day_name()\n",
        "df1"
      ],
      "metadata": {
        "cellView": "form",
        "id": "KvIefYCngwO_"
      },
      "execution_count": null,
      "outputs": []
    },
    {
      "cell_type": "markdown",
      "source": [
        "### Числа\n",
        "\n",
        "Если ```.astype('int64')``` не сработал (например, встретил нечисловое значение), можно использовать более гибкий вариант"
      ],
      "metadata": {
        "id": "wCFjtBxuZlaJ"
      }
    },
    {
      "cell_type": "code",
      "source": [
        "df1['Rental Count'].astype('int64')"
      ],
      "metadata": {
        "id": "ZaqhWJKbc0em"
      },
      "execution_count": null,
      "outputs": []
    },
    {
      "cell_type": "code",
      "source": [
        "# у нас с этим столбцом все в порядке, но на будущее:\n",
        "\n",
        "pd.to_numeric(df1['Rental Count'], errors='coerce')\n",
        "# errors - способ обработки ошибок, их несколько\n",
        "# errors='coerce' превращает проблемные значения в NaN"
      ],
      "metadata": {
        "id": "FPti8aQCZwpM"
      },
      "execution_count": null,
      "outputs": []
    },
    {
      "cell_type": "code",
      "source": [
        "# тоже на будущее:\n",
        "# оставим в df1 только числовые столбцы\n",
        "\n",
        "df1.select_dtypes(include='number')\n",
        "\n",
        "# select_dtypes(include='int64')\n",
        "# select_dtypes(include=['number', 'bool']) и т.д."
      ],
      "metadata": {
        "id": "fJBZgZR2g_5o"
      },
      "execution_count": null,
      "outputs": []
    },
    {
      "cell_type": "markdown",
      "source": [
        "## Перекодирование переменных"
      ],
      "metadata": {
        "id": "3tGH8IOlhhON"
      }
    },
    {
      "cell_type": "code",
      "source": [
        "# Давайте перекодируем переменную Temperature Category\n",
        "# Freezing, Chilly - 0, Nice, Hot - 1"
      ],
      "metadata": {
        "id": "3JBTmTvOiK_M"
      },
      "execution_count": null,
      "outputs": []
    },
    {
      "cell_type": "code",
      "source": [
        "# 1 способ\n",
        "\n",
        "l = []\n",
        "\n",
        "for i in df1['Temperature Category']:\n",
        "  if i == 'Freezing' or i == 'Chilly':\n",
        "    l.append(0)\n",
        "  else:\n",
        "    l.append(1)\n",
        "\n",
        "df1['coded'] = l\n",
        "\n",
        "df1.head(3)"
      ],
      "metadata": {
        "id": "yMVB_NEYiyKn"
      },
      "execution_count": null,
      "outputs": []
    },
    {
      "cell_type": "code",
      "source": [
        "# 2 способ - лучше - нативный для pandas\n",
        "\n",
        "def f(n):\n",
        "  if i == 'Freezing' or i == 'Chilly':\n",
        "    return 0\n",
        "  else:\n",
        "    return 1\n",
        "\n",
        "df1['coded'] = df1['Temperature Category'].apply(f)\n",
        "\n",
        "df1.head(3)"
      ],
      "metadata": {
        "id": "-AzdOSkyjLhx"
      },
      "execution_count": null,
      "outputs": []
    },
    {
      "cell_type": "code",
      "source": [
        "# 3 способ (разновидность предыдущего)\n",
        "# списковые включение (list comprehensions)\n",
        "\n",
        "df1['Temperature Category'].apply(lambda x: 0 if x == 'Freezing' or x == 'Chilly' else 1)"
      ],
      "metadata": {
        "id": "GweU0q8Zjn5-"
      },
      "execution_count": null,
      "outputs": []
    },
    {
      "cell_type": "code",
      "source": [
        "# усложним:\n",
        "df1['Temperature Category'].apply(lambda x: 1 if x == 'Freezing' else\n",
        "                                           (2 if x == 'Chilly' else\n",
        "                                           (3 if x == 'Nice' else 4)))"
      ],
      "metadata": {
        "id": "4pjI8UcomNWZ"
      },
      "execution_count": null,
      "outputs": []
    },
    {
      "cell_type": "markdown",
      "source": [
        "### Бонус"
      ],
      "metadata": {
        "id": "DEEsD1NAnwaW"
      }
    },
    {
      "cell_type": "markdown",
      "source": [
        "Другие примеры списковых включений:"
      ],
      "metadata": {
        "id": "q-z0h5QpmFm_"
      }
    },
    {
      "cell_type": "code",
      "source": [
        "l = []\n",
        "\n",
        "for i in range(10):\n",
        "  if i % 2 == 0:\n",
        "    l.append(i)\n",
        "\n",
        "print(l)"
      ],
      "metadata": {
        "id": "1t9705E9l1pf"
      },
      "execution_count": null,
      "outputs": []
    },
    {
      "cell_type": "code",
      "source": [
        "# аналогично\n",
        "print([i for i in range(10) if i % 2 == 0])"
      ],
      "metadata": {
        "id": "fimYWIqqlmCA"
      },
      "execution_count": null,
      "outputs": []
    },
    {
      "cell_type": "code",
      "source": [
        "l = []\n",
        "for i in range(10):\n",
        "  if i % 2 == 0:\n",
        "    l.append(True)\n",
        "  else:\n",
        "    l.append(False)\n",
        "\n",
        "print(l)"
      ],
      "metadata": {
        "id": "H7RAu0zdkBTx"
      },
      "execution_count": null,
      "outputs": []
    },
    {
      "cell_type": "code",
      "source": [
        "# аналогично\n",
        "print([True if i % 2 == 0 else False for i in range(10)])"
      ],
      "metadata": {
        "id": "PNVJJ8VlleOV"
      },
      "execution_count": null,
      "outputs": []
    },
    {
      "cell_type": "markdown",
      "source": [
        "Перекодирование номинальных переменных в бинарные"
      ],
      "metadata": {
        "id": "4Ez9nFovyMGG"
      }
    },
    {
      "cell_type": "code",
      "source": [
        "# перекодируем сезоны, уопрядочить их от зимы к осени - не очень корректно\n",
        "# в этом случае pandas будет считать, что осень в 4 раза больше зимы\n",
        "# можно добавить 4 новых столбика: зима / нет, весна / нет и т.д.\n",
        "# писать 4 функции для 4 новых столбцов неудобно\n",
        "\n",
        "pd.get_dummies(df1['Seasons'])"
      ],
      "metadata": {
        "id": "ryBj6hykyWY5"
      },
      "execution_count": null,
      "outputs": []
    },
    {
      "cell_type": "code",
      "source": [
        "pd.get_dummies(df1['Seasons']).astype('int64')"
      ],
      "metadata": {
        "id": "uCX2RCSky7dl"
      },
      "execution_count": null,
      "outputs": []
    },
    {
      "cell_type": "markdown",
      "source": [
        "## Соединение таблиц"
      ],
      "metadata": {
        "id": "x0AjlhV1nyzl"
      }
    },
    {
      "cell_type": "code",
      "source": [
        "# Простой пример с прошлой пары:\n",
        "data = [\n",
        "    [\"Maria\", \"London\", 37],\n",
        "    [\"Lorenzo\", \"Milan\", 28],\n",
        "    [\"Oleg\", \"Canberra\", 31],\n",
        "    [\"Hans\", \"Calgary\", 80],\n",
        "    [\"Mark\", \"Milan\", 55],\n",
        "    [\"Alex\", \"Krakow\", 35],\n",
        "    [\"Julia\", \"Murmansk\", 43]\n",
        "    ]\n",
        "\n",
        "df = pd.DataFrame(data, columns=['name', 'city', 'age'])\n",
        "df"
      ],
      "metadata": {
        "id": "LLUkojvKn2EM"
      },
      "execution_count": null,
      "outputs": []
    },
    {
      "cell_type": "code",
      "source": [
        "l = [\n",
        "    ['Alice', 'NY', 36],\n",
        "    ['Greta', 'Berlin', 30]\n",
        "    ]\n",
        "\n",
        "new = pd.DataFrame(l, columns=['name', 'city', 'age'])\n",
        "new"
      ],
      "metadata": {
        "id": "35evOIaYn5Jl"
      },
      "execution_count": null,
      "outputs": []
    },
    {
      "cell_type": "code",
      "source": [
        "pd.concat([df, new])\n",
        "# pd.concat([df, new], axis=0)\n",
        "# axis = 0 по умолчанию добалвяет новые строки\n",
        "# для добавления столбцов можно использовать axis=1"
      ],
      "metadata": {
        "id": "OCGbcQ5cpgv6"
      },
      "execution_count": null,
      "outputs": []
    },
    {
      "cell_type": "code",
      "source": [
        "l = [\n",
        "    ['Nick', 'Barcelona', 45, 'Chef'],\n",
        "    ['Sybil', 'Warsaw', 30, 'Artist']\n",
        "    ]\n",
        "\n",
        "new2 = pd.DataFrame(l, columns=['name', 'city', 'age', 'work'])\n",
        "new2"
      ],
      "metadata": {
        "id": "KyurvhL6ppH7"
      },
      "execution_count": null,
      "outputs": []
    },
    {
      "cell_type": "code",
      "source": [
        "pd.concat([df, new, new2]) # соединяет строки\n",
        "# доб. агрумент axis=1 и сможем соединять столбцы"
      ],
      "metadata": {
        "id": "X-U0d3KHqWAb"
      },
      "execution_count": null,
      "outputs": []
    },
    {
      "cell_type": "markdown",
      "source": [
        "О слиянии в стиле SQL [здесь](https://miptstats.github.io/courses/python/10_pandas2.html)"
      ],
      "metadata": {
        "id": "LUYwJfjhqlxB"
      }
    },
    {
      "cell_type": "markdown",
      "source": [
        "### Бонус"
      ],
      "metadata": {
        "id": "v-mPBJ5yyIq4"
      }
    },
    {
      "cell_type": "code",
      "source": [
        "import geopandas as gpd # геопандас - для работы с координатами\n",
        "world = gpd.read_file(gpd.datasets.get_path('naturalearth_lowres'))\n",
        "world.head()"
      ],
      "metadata": {
        "id": "yt8Lo2OOrRT-"
      },
      "execution_count": null,
      "outputs": []
    },
    {
      "cell_type": "code",
      "source": [
        "happiness = pd.read_csv('https://raw.githubusercontent.com/AnnSenina/Other/main/WHR2023.csv')\n",
        "happiness.head()"
      ],
      "metadata": {
        "id": "fNcrd7vlzdqV"
      },
      "execution_count": null,
      "outputs": []
    },
    {
      "cell_type": "code",
      "source": [
        "# world['name'] и happiness['Country name'] совпадают, соединим\n",
        "data_world = pd.merge(world, happiness, left_on='name', right_on='Country name') # соединили 2 датасета\n",
        "data_world"
      ],
      "metadata": {
        "id": "TvEV0XL9zuen"
      },
      "execution_count": null,
      "outputs": []
    },
    {
      "cell_type": "code",
      "source": [
        "data_world.plot(column ='Ladder score', legend=True);"
      ],
      "metadata": {
        "id": "pPxetPxw0EIH"
      },
      "execution_count": null,
      "outputs": []
    },
    {
      "cell_type": "markdown",
      "source": [
        "## Текстовые данные\n",
        "\n",
        "Текст часто бывает удобно представить в виде таблицы"
      ],
      "metadata": {
        "id": "9dQQFIQCPJ32"
      }
    },
    {
      "cell_type": "code",
      "source": [
        "with open('classic.txt') as f:\n",
        "  text = f.read()"
      ],
      "metadata": {
        "id": "faHUNiFBPJRW"
      },
      "execution_count": 179,
      "outputs": []
    },
    {
      "cell_type": "code",
      "source": [
        "# словарь абсолютных частот слов\n",
        "from collections import Counter\n",
        "Counter(text.lower().split())"
      ],
      "metadata": {
        "id": "MfiB1EwnPvTo"
      },
      "execution_count": null,
      "outputs": []
    },
    {
      "cell_type": "code",
      "source": [
        "words = pd.DataFrame.from_dict(Counter(text.lower().split()), orient='index', columns=['freq'])\n",
        "words"
      ],
      "metadata": {
        "id": "t-lkbuoNPqvz"
      },
      "execution_count": null,
      "outputs": []
    },
    {
      "cell_type": "code",
      "source": [
        "# Или:\n",
        "with open('classic.txt') as f:\n",
        "  text_list = f.readlines()\n",
        "\n",
        "sent = pd.DataFrame(text_list, columns=['sent'])\n",
        "sent # позже сюда можно добавить результаты анализа тональности и др."
      ],
      "metadata": {
        "id": "IUddHiA7Ql8y"
      },
      "execution_count": null,
      "outputs": []
    },
    {
      "cell_type": "markdown",
      "source": [
        "# Задачи для тренировки"
      ],
      "metadata": {
        "id": "fP67CEeH2DwN"
      }
    },
    {
      "cell_type": "markdown",
      "source": [
        "Вы работаете с датасетом от Гарвардского университета, в котором хранится информация о государствах - бывших колониях.\n",
        "\n",
        "Перекодируйте переменные **decolonization, foreign trade, plantations,\tgold/silver**\n",
        "\n",
        "Скачать данные можно здесь: https://raw.githubusercontent.com/AnnSenina/Python_CL_2023/main/data/Colonial.csv"
      ],
      "metadata": {
        "id": "YVVuOKRD2PDR"
      }
    },
    {
      "cell_type": "code",
      "source": [
        "df = pd.read_csv('https://raw.githubusercontent.com/AnnSenina/Python_CL_2023/main/data/Colonial.csv', sep=';')\n",
        "df"
      ],
      "metadata": {
        "id": "3FCqVK8K2Olv"
      },
      "execution_count": null,
      "outputs": []
    },
    {
      "cell_type": "code",
      "source": [],
      "metadata": {
        "id": "llhU0g6Q2HcR"
      },
      "execution_count": null,
      "outputs": []
    },
    {
      "cell_type": "code",
      "source": [],
      "metadata": {
        "id": "0P-aRpgW2nZw"
      },
      "execution_count": null,
      "outputs": []
    },
    {
      "cell_type": "code",
      "source": [],
      "metadata": {
        "id": "BfYzqwSA2nVp"
      },
      "execution_count": null,
      "outputs": []
    },
    {
      "cell_type": "code",
      "source": [],
      "metadata": {
        "id": "3IU9k_5l2nRt"
      },
      "execution_count": null,
      "outputs": []
    },
    {
      "cell_type": "markdown",
      "source": [
        "Возможные решения:"
      ],
      "metadata": {
        "id": "uHZK3qxB2rxh"
      }
    },
    {
      "cell_type": "code",
      "source": [
        "# @title\n",
        "def f(n):\n",
        "  if n == 'short':\n",
        "    return 0\n",
        "  else:\n",
        "    return 1\n",
        "\n",
        "df['coded_decolonization'] = df['decolonization'].apply(f)"
      ],
      "metadata": {
        "cellView": "form",
        "id": "wH4IPS452oZT"
      },
      "execution_count": null,
      "outputs": []
    },
    {
      "cell_type": "code",
      "source": [
        "# @title\n",
        "\n",
        "new = pd.get_dummies(df['decolonization']).astype('int64')\n",
        "pd.concat([df, new], axis=1)"
      ],
      "metadata": {
        "cellView": "form",
        "id": "eekWuAb02oR7"
      },
      "execution_count": null,
      "outputs": []
    }
  ]
}