{
  "nbformat": 4,
  "nbformat_minor": 0,
  "metadata": {
    "colab": {
      "provenance": [],
      "include_colab_link": true
    },
    "kernelspec": {
      "name": "python3",
      "display_name": "Python 3"
    },
    "language_info": {
      "name": "python"
    }
  },
  "cells": [
    {
      "cell_type": "markdown",
      "metadata": {
        "id": "view-in-github",
        "colab_type": "text"
      },
      "source": [
        "<a href=\"https://colab.research.google.com/github/AnnSenina/python_hse_2024/blob/main/notebooks/6_%D0%B2%D1%8B%D0%B1%D0%BE%D1%80%D0%BA%D0%B8.ipynb\" target=\"_parent\"><img src=\"https://colab.research.google.com/assets/colab-badge.svg\" alt=\"Open In Colab\"/></a>"
      ]
    },
    {
      "cell_type": "markdown",
      "source": [
        "### Маленькая практика по выборкам\n",
        "\n",
        "Исходные данные [Kaggle](https://www.kaggle.com/datasets/thedevastator/bot-activity-and-credibility-scores-on-social-me)"
      ],
      "metadata": {
        "id": "w4hYte2Q0Ofn"
      }
    },
    {
      "cell_type": "code",
      "source": [
        "import pandas as pd"
      ],
      "metadata": {
        "id": "UXJNs7KXjFwi"
      },
      "execution_count": 2,
      "outputs": []
    },
    {
      "cell_type": "code",
      "execution_count": null,
      "metadata": {
        "id": "750pXxUJ0LDz"
      },
      "outputs": [],
      "source": [
        "df = pd.read_csv(\"https://raw.githubusercontent.com/AnnSenina/python_hse_2024/main/data/activity_botscore.csv\")\n",
        "df"
      ]
    },
    {
      "cell_type": "code",
      "source": [
        "df.describe()"
      ],
      "metadata": {
        "id": "fMotMtYUp7f6"
      },
      "execution_count": null,
      "outputs": []
    },
    {
      "cell_type": "code",
      "source": [
        "df['age'].mean()"
      ],
      "metadata": {
        "id": "1OG7KpehqNvu"
      },
      "execution_count": null,
      "outputs": []
    },
    {
      "cell_type": "code",
      "source": [
        "df.shape"
      ],
      "metadata": {
        "id": "TAiXVF7wptjF"
      },
      "execution_count": null,
      "outputs": []
    },
    {
      "cell_type": "code",
      "source": [
        "df.shape[0] / 10"
      ],
      "metadata": {
        "id": "aj0OX9qmpwn2"
      },
      "execution_count": null,
      "outputs": []
    },
    {
      "cell_type": "code",
      "source": [
        "# сгенерируем 1 выборку размеров в 1119\n",
        "mini = df.sample(n=1119)\n",
        "mini"
      ],
      "metadata": {
        "id": "xc9P8xMN02YQ"
      },
      "execution_count": null,
      "outputs": []
    },
    {
      "cell_type": "code",
      "source": [
        "mini['age'].mean()"
      ],
      "metadata": {
        "id": "AY3bi3xrqYaQ"
      },
      "execution_count": null,
      "outputs": []
    },
    {
      "cell_type": "code",
      "source": [
        "# сгенерируем 10 случайных выборок:\n",
        "\n",
        "list_samples = []\n",
        "for i in range(10):\n",
        "  list_samples.append(df.sample(n=1119))"
      ],
      "metadata": {
        "id": "xFyAARo_pmEg"
      },
      "execution_count": 34,
      "outputs": []
    },
    {
      "cell_type": "code",
      "source": [
        "list_samples"
      ],
      "metadata": {
        "id": "C44MRaQUqkvV"
      },
      "execution_count": null,
      "outputs": []
    },
    {
      "cell_type": "code",
      "source": [
        "list_age = []\n",
        "for i in list_samples:\n",
        "  m = i[\"age\"] # столбец age\n",
        "  list_age.append(m) # список из столбцов age по 10 случайным выборкам\n",
        "list_age[0]"
      ],
      "metadata": {
        "id": "kFXV6gxypmCH"
      },
      "execution_count": null,
      "outputs": []
    },
    {
      "cell_type": "code",
      "source": [
        "import matplotlib.pyplot as plt\n",
        "\n",
        "plt.boxplot(x=list_age);"
      ],
      "metadata": {
        "id": "z4LEJ3kupl_l"
      },
      "execution_count": null,
      "outputs": []
    },
    {
      "cell_type": "code",
      "source": [
        "plt.boxplot(x=list_age)\n",
        "plt.axhline(df['age'].mean());\n",
        "# я немного манипулирую вами - это среднее арифметическое, медиана будет гораздо ближе к засечкам в ящиках))"
      ],
      "metadata": {
        "id": "KSEBDG0Ipl9N"
      },
      "execution_count": null,
      "outputs": []
    },
    {
      "cell_type": "markdown",
      "source": [
        "### Повторение:\n",
        "\n",
        "сделайте 10 выборок по количеству отправленных сообщений (count) и сравните со средним количеством (по аналогии)"
      ],
      "metadata": {
        "id": "X0_HqfkKtH0V"
      }
    },
    {
      "cell_type": "code",
      "source": [],
      "metadata": {
        "id": "_1DYparBtR9P"
      },
      "execution_count": null,
      "outputs": []
    },
    {
      "cell_type": "code",
      "source": [],
      "metadata": {
        "id": "JpVw7kvHtSQr"
      },
      "execution_count": null,
      "outputs": []
    },
    {
      "cell_type": "code",
      "source": [],
      "metadata": {
        "id": "-QgPbtbWtSN5"
      },
      "execution_count": null,
      "outputs": []
    },
    {
      "cell_type": "markdown",
      "source": [
        "Возможное решение:"
      ],
      "metadata": {
        "id": "bL9Xbd_itUox"
      }
    },
    {
      "cell_type": "code",
      "source": [
        "# @title\n",
        "\n",
        "list_samples = []\n",
        "for i in range(10):\n",
        "  list_samples.append(df.sample(n=1119))\n",
        "\n",
        "list_count = []\n",
        "for i in list_samples:\n",
        "  m = i[\"count\"] # столбец count\n",
        "  list_count.append(m) # список из столбцов count по 10 случайным выборкам\n",
        "\n",
        "plt.boxplot(x=list_count)\n",
        "plt.axhline(df['count'].mean());"
      ],
      "metadata": {
        "cellView": "form",
        "id": "SWuUWQR9tSuL"
      },
      "execution_count": null,
      "outputs": []
    },
    {
      "cell_type": "markdown",
      "source": [
        "О том, что делать с такими выбросами - в следующий раз"
      ],
      "metadata": {
        "id": "FHMTC7m0uGHx"
      }
    }
  ]
}