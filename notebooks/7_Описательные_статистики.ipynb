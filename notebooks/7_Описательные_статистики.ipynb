{
  "nbformat": 4,
  "nbformat_minor": 0,
  "metadata": {
    "colab": {
      "provenance": [],
      "authorship_tag": "ABX9TyMPSThGKW2QYEyvzE+hktFX",
      "include_colab_link": true
    },
    "kernelspec": {
      "name": "python3",
      "display_name": "Python 3"
    },
    "language_info": {
      "name": "python"
    }
  },
  "cells": [
    {
      "cell_type": "markdown",
      "metadata": {
        "id": "view-in-github",
        "colab_type": "text"
      },
      "source": [
        "<a href=\"https://colab.research.google.com/github/AnnSenina/python_hse_2024/blob/main/notebooks/7_%D0%9E%D0%BF%D0%B8%D1%81%D0%B0%D1%82%D0%B5%D0%BB%D1%8C%D0%BD%D1%8B%D0%B5_%D1%81%D1%82%D0%B0%D1%82%D0%B8%D1%81%D1%82%D0%B8%D0%BA%D0%B8.ipynb\" target=\"_parent\"><img src=\"https://colab.research.google.com/assets/colab-badge.svg\" alt=\"Open In Colab\"/></a>"
      ]
    },
    {
      "cell_type": "markdown",
      "source": [
        "# Описательные статистики: меры среднего и рассеяния\n",
        "\n",
        "\n",
        "1.   Пропуски (удаление, заполнение)\n",
        "2.   Меры среднего\n",
        "3.   Проверка данных на нормальность\n",
        "4.   Меры рассеяния\n",
        "5.   Выбросы\n",
        "6.   Стандартизация\n",
        "7.   Визуализация seaborn\n"
      ],
      "metadata": {
        "id": "rFdHn8jfUDd-"
      }
    },
    {
      "cell_type": "code",
      "execution_count": 233,
      "metadata": {
        "id": "ImjD4s_tEr3m"
      },
      "outputs": [],
      "source": [
        "import math\n",
        "import pandas as pd\n",
        "import numpy as np\n",
        "import matplotlib.pyplot as plt\n",
        "import scipy.stats\n",
        "from scipy.stats import shapiro\n",
        "from sklearn import preprocessing"
      ]
    },
    {
      "cell_type": "code",
      "source": [
        "df = pd.read_csv('https://raw.githubusercontent.com/AnnSenina/python_hse_2024/main/data/penguins.csv')\n",
        "df"
      ],
      "metadata": {
        "id": "kC_tHLvhJC8q"
      },
      "execution_count": null,
      "outputs": []
    },
    {
      "cell_type": "code",
      "source": [
        "df.info()"
      ],
      "metadata": {
        "id": "r3lGO1lMT_c-"
      },
      "execution_count": null,
      "outputs": []
    },
    {
      "cell_type": "code",
      "source": [
        "df.dropna() # для всего датафрейма\n",
        "#  df.dropna(subset=['столбец1', 'столбец2']) # надежнее\n",
        "# по умолчанию .dropna(axis = 0) для удаления строк с пропусками, для столбцов axis = 1\n",
        "\n",
        "# .dropna() создает копию df с изменениями\n",
        "# чтобы изменения вступили в силу:\n",
        "# df.dropna(inplace = True) # ИЛИ:\n",
        "# df = df.dropna()"
      ],
      "metadata": {
        "id": "9qjGjBKSUZAj"
      },
      "execution_count": null,
      "outputs": []
    },
    {
      "cell_type": "code",
      "source": [
        "# заполнение пропусков\n",
        "df.fillna(0) # можно заполнить одинаковыми значениями - например, нулями\n",
        "# аналогично, изменения не вступят в силу, копия df"
      ],
      "metadata": {
        "id": "AO2p7bUCVl1k"
      },
      "execution_count": null,
      "outputs": []
    },
    {
      "cell_type": "markdown",
      "source": [
        "### Меры среднего (= меры центральной тендаенции)"
      ],
      "metadata": {
        "id": "Jzawl45kWBMK"
      }
    },
    {
      "cell_type": "code",
      "source": [
        "df.describe()"
      ],
      "metadata": {
        "id": "hDg7F_zmWHht"
      },
      "execution_count": null,
      "outputs": []
    },
    {
      "cell_type": "code",
      "source": [
        "# для категориальных переменных\n",
        "df[['species', 'island', 'sex']]"
      ],
      "metadata": {
        "id": "0FWvqOvtWPWe"
      },
      "execution_count": null,
      "outputs": []
    },
    {
      "cell_type": "code",
      "source": [
        "df[['species', 'island', 'sex']].describe()\n",
        "# если все переменные категориальные, мы автоматически видим их меры среднего и вариативности"
      ],
      "metadata": {
        "id": "jxkl5qIeWXsC"
      },
      "execution_count": null,
      "outputs": []
    },
    {
      "cell_type": "code",
      "source": [
        "# можно также включить показ всех статистик\n",
        "df.describe(include='all')"
      ],
      "metadata": {
        "id": "Xn9-yAKBX_Kn"
      },
      "execution_count": null,
      "outputs": []
    },
    {
      "cell_type": "code",
      "source": [
        "# mean - среднее арифместическое - к столбцу можно вызвать метод df['столбец'].mean()\n",
        "# 50% - медиана - к столбцу df['столбец'].median()\n",
        "# top - мода - к столбцу df['столбец'].mode()[0] # Важно! мода возвращается списком, т.к. их может быть несколько\n",
        "\n",
        "# давайте снова посмотрим на пропуски и заполним их мерой центральной тенденции\n",
        "df.info()"
      ],
      "metadata": {
        "id": "csGeObHgYH5H"
      },
      "execution_count": null,
      "outputs": []
    },
    {
      "cell_type": "code",
      "source": [
        "bill_l = df['bill_length_mm'].median()\n",
        "df['bill_length_mm'] = df['bill_length_mm'].fillna(bill_l)\n",
        "df.info()"
      ],
      "metadata": {
        "id": "_0FGs6rlYWuE"
      },
      "execution_count": null,
      "outputs": []
    },
    {
      "cell_type": "code",
      "source": [
        "# заполните остальные пропуски\n"
      ],
      "metadata": {
        "id": "KaGwrndoYn1X"
      },
      "execution_count": null,
      "outputs": []
    },
    {
      "cell_type": "code",
      "source": [],
      "metadata": {
        "id": "5pqnO91AZczH"
      },
      "execution_count": null,
      "outputs": []
    },
    {
      "cell_type": "code",
      "source": [],
      "metadata": {
        "id": "qgyLZZoqYno8"
      },
      "execution_count": null,
      "outputs": []
    },
    {
      "cell_type": "code",
      "source": [],
      "metadata": {
        "id": "q1zwHxkeYnf0"
      },
      "execution_count": null,
      "outputs": []
    },
    {
      "cell_type": "code",
      "source": [
        "# @title\n",
        "\n",
        "df['bill_depth_mm'] = df['bill_depth_mm'].fillna(df['bill_depth_mm'].median())\n",
        "df['flipper_length_mm'] = df['flipper_length_mm'].fillna(df['flipper_length_mm'].median())\n",
        "df['body_mass_g'] = df['body_mass_g'].fillna(df['body_mass_g'].median())\n",
        "df['sex'] = df['sex'].fillna(df['sex'].mode()[0])\n",
        "df.info()"
      ],
      "metadata": {
        "cellView": "form",
        "id": "vCAEGcoGYqDL"
      },
      "execution_count": null,
      "outputs": []
    },
    {
      "cell_type": "markdown",
      "source": [
        "Немного более специфичная задача: пусть у нас есть датафрейм с велосипедами, в котором не везде заполнена температура воздуха"
      ],
      "metadata": {
        "id": "ep4MuB5KZ08S"
      }
    },
    {
      "cell_type": "code",
      "source": [
        "bikes = pd.read_csv('https://raw.githubusercontent.com/AnnSenina/Other/main/BikeDataVar.csv')\n",
        "bikes.describe()\n",
        "\n",
        "# смотрим на среднюю и медианную температуру"
      ],
      "metadata": {
        "id": "LlqEtY4xZ-dt"
      },
      "execution_count": null,
      "outputs": []
    },
    {
      "cell_type": "code",
      "source": [
        "# вариант 1: ищем медианную температуру для сезона:\n",
        "bikes.groupby('Seasons')['Temperature'].median().sort_values()"
      ],
      "metadata": {
        "id": "XfBtDOX2aMIs"
      },
      "execution_count": null,
      "outputs": []
    },
    {
      "cell_type": "code",
      "source": [
        "# .transform похож на .apply, однако он возвращает таблицу исходной длины\n",
        "median_table = bikes.groupby('Seasons')['Temperature'].transform('median')\n",
        "median_table\n",
        "# вся таблица заполнена медианами по сезонам - нам это не нужно, но мы можем использовать эту таблицу для fillna!"
      ],
      "metadata": {
        "id": "_HkFRFQXbfz6"
      },
      "execution_count": null,
      "outputs": []
    },
    {
      "cell_type": "code",
      "source": [
        "bikes['Temperature'] = bikes['Temperature'].fillna(median_table)\n",
        "bikes # пропуски заполнены медианами по сезонам!"
      ],
      "metadata": {
        "id": "Mg8xUEXVdMGk"
      },
      "execution_count": null,
      "outputs": []
    },
    {
      "cell_type": "code",
      "source": [
        "bikes.describe()"
      ],
      "metadata": {
        "id": "N-WD6447gNTZ"
      },
      "execution_count": null,
      "outputs": []
    },
    {
      "cell_type": "code",
      "source": [
        "# вариант 2: используем метод интерполяции .interpolate()\n",
        "\n",
        "# вернем назад исодную таблицу\n",
        "bikes = pd.read_csv('https://raw.githubusercontent.com/AnnSenina/Other/main/BikeDataVar.csv')\n",
        "bikes.info()"
      ],
      "metadata": {
        "id": "IQsiDBaBenpa"
      },
      "execution_count": null,
      "outputs": []
    },
    {
      "cell_type": "code",
      "source": [
        "bikes['Temperature'].interpolate()\n",
        "# пропуски будут заполнены на основании соседних ячеек"
      ],
      "metadata": {
        "id": "5i3t8PbLfs9G"
      },
      "execution_count": null,
      "outputs": []
    },
    {
      "cell_type": "code",
      "source": [
        "bikes['Temperature'] = bikes['Temperature'].interpolate()\n",
        "bikes['Temperature'].isna().sum() # пропуски отсутствуют"
      ],
      "metadata": {
        "id": "GAtQqP84gXqf"
      },
      "execution_count": null,
      "outputs": []
    },
    {
      "cell_type": "code",
      "source": [
        "bikes.describe()"
      ],
      "metadata": {
        "id": "Cpwu38CKh7Kx"
      },
      "execution_count": null,
      "outputs": []
    },
    {
      "cell_type": "markdown",
      "source": [
        "## Основные описательные статистики\n",
        "- максимум, минимум, размах\n",
        "- среднее, мода, медиана"
      ],
      "metadata": {
        "id": "1SOqSsnAh-kL"
      }
    },
    {
      "cell_type": "code",
      "source": [
        "df['body_mass_g'].max()"
      ],
      "metadata": {
        "id": "1ZGGYlaAip63"
      },
      "execution_count": null,
      "outputs": []
    },
    {
      "cell_type": "code",
      "source": [
        "df['body_mass_g'].min()"
      ],
      "metadata": {
        "id": "F1Lbf_vkiqSk"
      },
      "execution_count": null,
      "outputs": []
    },
    {
      "cell_type": "code",
      "source": [
        "df['body_mass_g'].max() - df['body_mass_g'].min() # размах = в экселе интервал"
      ],
      "metadata": {
        "id": "8PZHnLL0iqjK"
      },
      "execution_count": null,
      "outputs": []
    },
    {
      "cell_type": "code",
      "source": [
        "df['body_mass_g'].mean()"
      ],
      "metadata": {
        "id": "XP0cfludiINW"
      },
      "execution_count": null,
      "outputs": []
    },
    {
      "cell_type": "code",
      "source": [
        "df['body_mass_g'].median()"
      ],
      "metadata": {
        "id": "QufrcTr8iZWe"
      },
      "execution_count": null,
      "outputs": []
    },
    {
      "cell_type": "code",
      "source": [
        "df['body_mass_g'].mode()"
      ],
      "metadata": {
        "id": "lmQiJum9ia-d"
      },
      "execution_count": null,
      "outputs": []
    },
    {
      "cell_type": "code",
      "source": [
        "# мода - едиснтвенная мера центральной тенденции для категориальных переменных\n",
        "df['island'].mode()"
      ],
      "metadata": {
        "id": "TAuVvu3hii2N"
      },
      "execution_count": null,
      "outputs": []
    },
    {
      "cell_type": "code",
      "source": [
        "df['species'].mode()"
      ],
      "metadata": {
        "id": "jb19BvjivUTL"
      },
      "execution_count": null,
      "outputs": []
    },
    {
      "cell_type": "code",
      "source": [
        "# все эти описательные статистики можно считать к сгруппированным данным:\n",
        "df.groupby('species')['body_mass_g'].median()"
      ],
      "metadata": {
        "id": "9epqDLa3uVaA"
      },
      "execution_count": null,
      "outputs": []
    },
    {
      "cell_type": "markdown",
      "source": [
        "сложности с модой...\n",
        "\n",
        "Для сгруппированных данных нельзя напрямую посчитать моду\n",
        "\n",
        "Но! Есть специальный метод .agg в pandas (агрегирование данных), который позволяет посчитать все, что угодно :)\n",
        "\n",
        "Документация [здесь](https://pandas.pydata.org/docs/reference/api/pandas.DataFrame.agg.html)\n",
        "\n",
        "А вот здесь есть еще одна [тетрадка с примерами](https://dfedorov.spb.ru/pandas/%D0%9E%D0%B1%D1%8A%D1%8F%D1%81%D0%BD%D0%B5%D0%BD%D0%B8%D0%B5%20%D1%84%D1%83%D0%BD%D0%BA%D1%86%D0%B8%D0%B9%20Grouper%20%D0%B8%20Agg%20%D0%B2%20Pandas.html)"
      ],
      "metadata": {
        "id": "4R47CkfhuQvL"
      }
    },
    {
      "cell_type": "code",
      "source": [
        "df[df['island'] == 'Biscoe']['species'].value_counts() # можно посмотреть, пингвины каких видов живут на острове Biscoe"
      ],
      "metadata": {
        "id": "t6jjfey7u59m"
      },
      "execution_count": null,
      "outputs": []
    },
    {
      "cell_type": "code",
      "source": [
        "df[df['species'] == 'Adelie']['island'].value_counts() # или посмотреть, на каких островах живут пингвины вида Adelie"
      ],
      "metadata": {
        "id": "TU3hEKZRvYDC"
      },
      "execution_count": null,
      "outputs": []
    },
    {
      "cell_type": "code",
      "source": [
        "df.groupby('island')['species'].mode() # не сработает"
      ],
      "metadata": {
        "id": "YkIQs2OxvIb0"
      },
      "execution_count": null,
      "outputs": []
    },
    {
      "cell_type": "code",
      "source": [
        "df.groupby('island')['species'].agg(pd.Series.mode) # пингвинов какого вида большинство на каждом острове"
      ],
      "metadata": {
        "id": "JhVKdaxruPUQ"
      },
      "execution_count": null,
      "outputs": []
    },
    {
      "cell_type": "markdown",
      "source": [
        "### Проверка на нормальность"
      ],
      "metadata": {
        "id": "uqjwa49sppiL"
      }
    },
    {
      "cell_type": "code",
      "source": [
        "df['body_mass_g'].hist(bins=30);"
      ],
      "metadata": {
        "id": "5S6Uiibmio83"
      },
      "execution_count": null,
      "outputs": []
    },
    {
      "cell_type": "code",
      "source": [
        "df['body_mass_g'].plot(kind='density');"
      ],
      "metadata": {
        "id": "GngbPWYSpgem"
      },
      "execution_count": null,
      "outputs": []
    },
    {
      "cell_type": "code",
      "source": [
        "# код для графика отсюда: https://github.com/capissimo/python-for-data-science/blob/master/ch01_Statistics.ipynb\n",
        "\n",
        "def qqplot(xs):\n",
        "    '''Квантильный график (график квантиль-квантиль, Q-Q plot)'''\n",
        "    d = {0:sorted(scipy.stats.norm.rvs(loc=0, scale=1, size=len(xs))),\n",
        "         1:sorted(xs)}\n",
        "    pd.DataFrame(d).plot.scatter(0, 1, s=5, grid=True)\n",
        "    plt.xlabel('Квантили теоретического нормального распределения')\n",
        "    plt.ylabel('Квантили данных')\n",
        "    plt.title ('Квантильный график', fontweight='semibold')"
      ],
      "metadata": {
        "id": "wWDaSS2vi7MJ"
      },
      "execution_count": 136,
      "outputs": []
    },
    {
      "cell_type": "code",
      "source": [
        "qqplot(df['body_mass_g'])"
      ],
      "metadata": {
        "id": "REpLkicolwfg"
      },
      "execution_count": null,
      "outputs": []
    },
    {
      "cell_type": "markdown",
      "source": [
        "[Гайд](https://habr.com/ru/articles/578754/) по Q-Q plot"
      ],
      "metadata": {
        "id": "Kogcy_8GpRTr"
      }
    },
    {
      "cell_type": "code",
      "source": [
        "# тест на нормальность из scipy.stats\n",
        "# H0: случайная величина распределена нормально\n",
        "# H1: распределение не является нормальным\n",
        "# Если p-значение меньше 0,05, мы отвергаем нулевую гипотезу\n",
        "\n",
        "_, p = scipy.stats.normaltest(df['body_mass_g'])\n",
        "alpha = 0.05\n",
        "if p < alpha:  # H0: случайная величина распределена нормально\n",
        "    print(\"Не нормальное распределение для alpha = \", alpha)\n",
        "else:\n",
        "    print(\"Нормальное распределение для alpha = \", alpha)"
      ],
      "metadata": {
        "id": "CRabmGQR_p_G"
      },
      "execution_count": null,
      "outputs": []
    },
    {
      "cell_type": "code",
      "source": [
        "# тест Шапиро-Уилка\n",
        "_, p = shapiro(df['body_mass_g'])\n",
        "\n",
        "alpha = 0.05\n",
        "if p < alpha:  # H0: случайная величина распределена нормально\n",
        "    print(\"Не нормальное распределение для alpha = \", alpha)\n",
        "else:\n",
        "    print(\"Нормальное распределение для alpha = \", alpha)\n"
      ],
      "metadata": {
        "id": "w8Ggk9RCpoid"
      },
      "execution_count": null,
      "outputs": []
    },
    {
      "cell_type": "code",
      "source": [
        "shapiro(df['body_mass_g'])"
      ],
      "metadata": {
        "id": "Pp_YUhaiAeNu"
      },
      "execution_count": null,
      "outputs": []
    },
    {
      "cell_type": "code",
      "source": [
        "shapiro(df['body_mass_g']).pvalue < 0.05"
      ],
      "metadata": {
        "id": "e_3csBRDqd45"
      },
      "execution_count": null,
      "outputs": []
    },
    {
      "cell_type": "markdown",
      "source": [
        "## Меры вариативности (= меры разброса)\n",
        "\n",
        "- стандартное отклонение, дисперсия, квартили, процентили для чисел\n",
        "- количество уникальных категорий для категориальных переменных"
      ],
      "metadata": {
        "id": "OgsCXCJmt488"
      }
    },
    {
      "cell_type": "code",
      "source": [
        "df['body_mass_g'].var() # для выборки\n",
        "# отличия: значения для выборки будут несколько выше, чем для ГС\n",
        "# это сделано искусствено, т.к. более типичные значения распределены близко к среднему, их много -> они чаще попадают в выборку\n",
        "# считается, что любая выборка будет несколько недооценивать разнообразие данных\n",
        "# хитрые математики придумали выход (делят не на объем выборки n, а на n - 1) -> искусственно повышают разнообразие (рассеяние, вариативность) выборки"
      ],
      "metadata": {
        "id": "GmK6eZ52t4jA"
      },
      "execution_count": null,
      "outputs": []
    },
    {
      "cell_type": "code",
      "source": [
        "df['body_mass_g'].var(ddof=0) # для ГС"
      ],
      "metadata": {
        "id": "PXimR0ADvn6E"
      },
      "execution_count": null,
      "outputs": []
    },
    {
      "cell_type": "code",
      "source": [
        "df['body_mass_g'].std() # для выборки"
      ],
      "metadata": {
        "id": "yY_cWM2_vqgY"
      },
      "execution_count": null,
      "outputs": []
    },
    {
      "cell_type": "code",
      "source": [
        "df['body_mass_g'].std(ddof=0) # для ГС"
      ],
      "metadata": {
        "id": "0RoryD-Cvq5e"
      },
      "execution_count": null,
      "outputs": []
    },
    {
      "cell_type": "code",
      "source": [
        "c_var = df['body_mass_g'].std() / df['body_mass_g'].mean() * 100\n",
        "# c_var\n",
        "print(c_var, '%')\n",
        "# однородная совокупность (коэффициент вариации, или относительное стандартное отклонение - формулка из презентации)"
      ],
      "metadata": {
        "id": "lSS7OGwbvuKz"
      },
      "execution_count": null,
      "outputs": []
    },
    {
      "cell_type": "code",
      "source": [
        "df.describe()['body_mass_g']['75%'] - df.describe()['body_mass_g']['25%'] # межвартильное расстояние"
      ],
      "metadata": {
        "id": "EDbrSKz8wQXR"
      },
      "execution_count": null,
      "outputs": []
    },
    {
      "cell_type": "code",
      "source": [
        "df.describe()['body_mass_g']['25%'] # так ищем квартили (25%, 50%, 75%)"
      ],
      "metadata": {
        "id": "Onmot4zxwTNc"
      },
      "execution_count": null,
      "outputs": []
    },
    {
      "cell_type": "code",
      "source": [
        "np.quantile(df['body_mass_g'], 0.25) # 25, 50, 75"
      ],
      "metadata": {
        "id": "r6Svp6ldwU2l"
      },
      "execution_count": null,
      "outputs": []
    },
    {
      "cell_type": "code",
      "source": [
        "np.percentile(df['body_mass_g'], 90) # любой процентиль (1 квартиль = 25% процентиль)"
      ],
      "metadata": {
        "id": "FE8NoE1PwVPt"
      },
      "execution_count": null,
      "outputs": []
    },
    {
      "cell_type": "markdown",
      "source": [
        "Квартили мы видим на ящиках с усами\n",
        "\n",
        "Нижний \"ус\" до начала ящика - первые 25% значений совокупности (= 1 квартиль), четверть самых маленьких значений в выборке (или ГС)\n",
        "\n",
        "Ящик - половина всех значений, распределенные близко к медиане (2 и 3 квартили = от 25% до 75% процентиля)\n",
        "\n",
        "Верзний \"ус\" - с 75% процентиля и выше (= 4 квартиль), четветь самых больших значений в выборке (или ГС)\n",
        "\n",
        "Вне \"усов\" расположены выбросы"
      ],
      "metadata": {
        "id": "nZ2D_ewYwaIi"
      }
    },
    {
      "cell_type": "markdown",
      "source": [
        "## Выбросы"
      ],
      "metadata": {
        "id": "evrHDfAowgla"
      }
    },
    {
      "cell_type": "code",
      "source": [
        "d = df.describe()['body_mass_g']['75%'] - df.describe()['body_mass_g']['25%']\n",
        "d"
      ],
      "metadata": {
        "id": "qtOsEey3wcAu"
      },
      "execution_count": null,
      "outputs": []
    },
    {
      "cell_type": "code",
      "source": [
        "# выбросы справа\n",
        "r = df.describe()['body_mass_g']['75%'] + 1.5 * d\n",
        "# все значения больше r являются выбросами (сверху или справа)\n",
        "r"
      ],
      "metadata": {
        "id": "Ws7rSYbzwnfx"
      },
      "execution_count": null,
      "outputs": []
    },
    {
      "cell_type": "code",
      "source": [
        "len(df[df['body_mass_g'] > r]) # выбросов справа нет"
      ],
      "metadata": {
        "id": "BqTLeEWJwpUr"
      },
      "execution_count": null,
      "outputs": []
    },
    {
      "cell_type": "code",
      "source": [
        "# выбросы слева\n",
        "l = df.describe()['body_mass_g']['25%'] - 1.5 * d\n",
        "# все значения меньше l являются выбросами\n",
        "l"
      ],
      "metadata": {
        "id": "4bXjtUgjw0xd"
      },
      "execution_count": null,
      "outputs": []
    },
    {
      "cell_type": "code",
      "source": [
        "len(df[df['body_mass_g'] < l])"
      ],
      "metadata": {
        "id": "S_sUnx3Kw34l"
      },
      "execution_count": null,
      "outputs": []
    },
    {
      "cell_type": "code",
      "source": [
        "# пример в одну ячейку для другого показателя\n",
        "d = df.describe()['bill_length_mm']['75%'] - df.describe()['bill_length_mm']['25%']\n",
        "\n",
        "print(df.describe()['bill_length_mm']['75%'] + 1.5 * d)\n",
        "print(df.describe()['bill_length_mm']['25%'] - 1.5 * d)\n",
        "\n",
        "print(len(df[df['bill_length_mm'] > df.describe()['bill_length_mm']['75%'] + 1.5 * d]), 'выбросов справа')\n",
        "print(len(df[df['bill_length_mm'] < df.describe()['bill_length_mm']['25%'] - 1.5 * d]), 'выбросов слева')"
      ],
      "metadata": {
        "id": "yWV4gfcbw9EJ"
      },
      "execution_count": null,
      "outputs": []
    },
    {
      "cell_type": "code",
      "source": [
        "# визуализацией выбросов являются ящики с усами\n",
        "df.boxplot();\n",
        "\n",
        "# как исправить график:\n",
        "# единицы измерения разные -> данные нужно стандартизировать"
      ],
      "metadata": {
        "id": "_M0VChyBxOMl"
      },
      "execution_count": null,
      "outputs": []
    },
    {
      "cell_type": "markdown",
      "source": [
        "## Стандартизация\n",
        "\n",
        "В sklearn есть несколько вариантов стандартизации. Один из самых распространенных и быстрых: StandardScalar: после масштабирования данные имеют нулевое среднее значение и единичную дисперсию\n",
        "\n",
        "Другие: например, MinMaxScaler, normalize\n",
        "\n",
        "[Документация](https://scikit-learn.ru/6-3-preprocessing-data/)"
      ],
      "metadata": {
        "id": "qQDDUWC6y-ee"
      }
    },
    {
      "cell_type": "code",
      "source": [
        "df_num = df.select_dtypes(include=['int64', 'float64'])\n",
        "df_num"
      ],
      "metadata": {
        "id": "zQLxhEwRzm1b"
      },
      "execution_count": null,
      "outputs": []
    },
    {
      "cell_type": "code",
      "source": [
        "stand = preprocessing.StandardScaler()\n",
        "stand.fit(df_num)\n",
        "\n",
        "X = stand.transform(df_num)\n",
        "# x - это матрица класса numpy.ndarray\n",
        "# преобразуем её в DataFrame\n",
        "x = pd.DataFrame(X, index=df_num.index, columns=df_num.columns)\n",
        "x"
      ],
      "metadata": {
        "id": "D72Ldl5UzaTT"
      },
      "execution_count": null,
      "outputs": []
    },
    {
      "cell_type": "code",
      "source": [
        "round(x.mean(axis=0))"
      ],
      "metadata": {
        "id": "mTQs-pZGy_O7"
      },
      "execution_count": null,
      "outputs": []
    },
    {
      "cell_type": "code",
      "source": [
        "round(x.std(axis=0))"
      ],
      "metadata": {
        "id": "P8X_2WiczXJt"
      },
      "execution_count": null,
      "outputs": []
    },
    {
      "cell_type": "code",
      "source": [
        "# можно собрать в функцию, чтобы дальше было удобнее работать\n",
        "# здесь вариант покороче\n",
        "def scale_features(df):\n",
        "    scaled = preprocessing.StandardScaler().fit_transform(df)\n",
        "    scaled = pd.DataFrame(scaled, columns=df.columns)\n",
        "    return scaled\n",
        "\n",
        "# пример:\n",
        "scale_features(df_num)"
      ],
      "metadata": {
        "id": "C-FZJrpy0fxY"
      },
      "execution_count": null,
      "outputs": []
    },
    {
      "cell_type": "code",
      "source": [
        "standart(df_num).boxplot();"
      ],
      "metadata": {
        "id": "c-G0TOI70QRO"
      },
      "execution_count": null,
      "outputs": []
    },
    {
      "cell_type": "markdown",
      "source": [
        "Задание:\n",
        "- выберите только числовые столбцы из bikes\n",
        "- стандартизируйте данные\n",
        "- постройте ящики с усами для всех столбцов\n",
        "- определите количество выбросов для признака ```Rental Count```\n",
        "- постройте гистрограмму и ящик с усами только для этого столбца\n"
      ],
      "metadata": {
        "id": "9a3__i1B0YGV"
      }
    },
    {
      "cell_type": "code",
      "source": [
        "# ваш код\n"
      ],
      "metadata": {
        "id": "77F9olI53gM3"
      },
      "execution_count": null,
      "outputs": []
    },
    {
      "cell_type": "code",
      "source": [],
      "metadata": {
        "id": "17aKdiMU3gEt"
      },
      "execution_count": null,
      "outputs": []
    },
    {
      "cell_type": "code",
      "source": [],
      "metadata": {
        "id": "lz7S4ahc3gAx"
      },
      "execution_count": null,
      "outputs": []
    },
    {
      "cell_type": "code",
      "source": [],
      "metadata": {
        "id": "HuWmfDQB3f8Y"
      },
      "execution_count": null,
      "outputs": []
    },
    {
      "cell_type": "code",
      "source": [
        "# @title\n",
        "bikes_num = bikes.select_dtypes(include=['int64', 'float64'])\n",
        "scale_features(bikes_num).boxplot()\n",
        "plt.xticks(rotation=45);"
      ],
      "metadata": {
        "cellView": "form",
        "id": "JMhPczFo0WGG"
      },
      "execution_count": null,
      "outputs": []
    },
    {
      "cell_type": "code",
      "source": [
        "# @title\n",
        "d = bikes.describe()['Rental Count']['75%'] - bikes.describe()['Rental Count']['25%']\n",
        "\n",
        "print(len(bikes[bikes['Rental Count'] > bikes.describe()['Rental Count']['75%'] + 1.5 * d]), 'выбросов справа')\n",
        "print(len(bikes[bikes['Rental Count'] < bikes.describe()['Rental Count']['25%'] - 1.5 * d]), 'выбросов слева')"
      ],
      "metadata": {
        "cellView": "form",
        "id": "UVD3J-oh247D"
      },
      "execution_count": null,
      "outputs": []
    },
    {
      "cell_type": "code",
      "source": [
        "# @title\n",
        "plt.hist(bikes['Rental Count'], bins=30);"
      ],
      "metadata": {
        "cellView": "form",
        "id": "fEyw64Lk3YEq"
      },
      "execution_count": null,
      "outputs": []
    },
    {
      "cell_type": "code",
      "source": [
        "# @title\n",
        "plt.boxplot(bikes['Rental Count']);"
      ],
      "metadata": {
        "cellView": "form",
        "id": "zW-C2EKR3QAs"
      },
      "execution_count": null,
      "outputs": []
    },
    {
      "cell_type": "markdown",
      "source": [
        "### Преобразования данных\n",
        "\n",
        "Часто переменную логарифмируют, если подозревают, что ее распределение логнормальное и в исходном виде повлияет на дальнейшее исследование"
      ],
      "metadata": {
        "id": "sUHWRkJe6Dy9"
      }
    },
    {
      "cell_type": "code",
      "source": [
        "data = bikes['Rental Count']\n",
        "data_log = np.log(bikes['Rental Count'] + 1)\n",
        "\n",
        "fig, axs = plt.subplots(nrows = 1, ncols = 2)\n",
        "\n",
        "#create histograms\n",
        "axs[0].hist(data)\n",
        "axs[1].hist(data_log)\n",
        "\n",
        "#add title to each histogram\n",
        "axs[0].set_title('Original Data')\n",
        "axs[1].set_title('Log-Transformed Data');"
      ],
      "metadata": {
        "id": "__072GIc3WYy"
      },
      "execution_count": null,
      "outputs": []
    },
    {
      "cell_type": "code",
      "source": [
        "alpha = 0.05\n",
        "_, p = shapiro(np.log(bikes['Rental Count'] + 1))\n",
        "if p < alpha:\n",
        "  print(\"не является логнормальным для alpha = \" + str(alpha))\n",
        "else:\n",
        "  print(\"является логнормальным на уровне \" + str(alpha))"
      ],
      "metadata": {
        "id": "84IyRYXJ-DTs"
      },
      "execution_count": null,
      "outputs": []
    }
  ]
}
