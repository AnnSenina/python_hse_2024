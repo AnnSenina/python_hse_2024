{
  "nbformat": 4,
  "nbformat_minor": 0,
  "metadata": {
    "colab": {
      "provenance": [],
      "include_colab_link": true
    },
    "kernelspec": {
      "name": "python3",
      "display_name": "Python 3"
    },
    "language_info": {
      "name": "python"
    }
  },
  "cells": [
    {
      "cell_type": "markdown",
      "metadata": {
        "id": "view-in-github",
        "colab_type": "text"
      },
      "source": [
        "<a href=\"https://colab.research.google.com/github/AnnSenina/python_hse_2024/blob/main/notebooks/8_%D0%9A%D0%BE%D1%80%D1%80%D0%B5%D0%BB%D1%8F%D1%86%D0%B8%D0%B8.ipynb\" target=\"_parent\"><img src=\"https://colab.research.google.com/assets/colab-badge.svg\" alt=\"Open In Colab\"/></a>"
      ]
    },
    {
      "cell_type": "markdown",
      "source": [
        "# Открываем данные\n",
        "\n",
        "Начнем с тех же самых арендованных велосипедов\n",
        "\n",
        "Исходный датасет с [Kaggle](https://www.kaggle.com/datasets/kratos2597/boom-bikes-linear-regression/data)\n",
        "\n",
        "Мы работаем с немного измененной версией от коллег из проекта Data Culture"
      ],
      "metadata": {
        "id": "IRBZuD09FVPJ"
      }
    },
    {
      "cell_type": "code",
      "execution_count": null,
      "metadata": {
        "id": "W9bM1Y8YE0Cl"
      },
      "outputs": [],
      "source": [
        "import pandas as pd\n",
        "df = pd.read_csv('https://raw.githubusercontent.com/AnnSenina/databases_stat_2023/main/BikeDataVar.csv')\n",
        "df.head()"
      ]
    },
    {
      "cell_type": "markdown",
      "source": [
        "Для некоторых видов анализа пропуски будут мешать\n"
      ],
      "metadata": {
        "id": "sMrljCRM6_GI"
      }
    },
    {
      "cell_type": "code",
      "source": [
        "df = df.dropna() # удалить пропуски"
      ],
      "metadata": {
        "id": "v2RXNiwp7FkH"
      },
      "execution_count": 6,
      "outputs": []
    },
    {
      "cell_type": "code",
      "source": [
        "df.info()"
      ],
      "metadata": {
        "id": "3QzOlztQ4UwC"
      },
      "execution_count": null,
      "outputs": []
    },
    {
      "cell_type": "markdown",
      "source": [
        "Посчитаем все корреляции разом"
      ],
      "metadata": {
        "id": "-CVh2maKFYy9"
      }
    },
    {
      "cell_type": "code",
      "source": [
        "df.corr() # pandas по умолчанию больше не выбирает за нас числовые столбцы"
      ],
      "metadata": {
        "id": "IuVaMJRG63TA"
      },
      "execution_count": null,
      "outputs": []
    },
    {
      "cell_type": "code",
      "source": [
        "import numpy as np\n",
        "df_num = df.select_dtypes(include=np.number)\n",
        "df_num.corr()"
      ],
      "metadata": {
        "id": "ZMx-l43JKZQx"
      },
      "execution_count": null,
      "outputs": []
    },
    {
      "cell_type": "code",
      "source": [
        "# ИЛИ:\n",
        "df.corr(numeric_only = True)"
      ],
      "metadata": {
        "id": "SJSehL_zWFDc"
      },
      "execution_count": null,
      "outputs": []
    },
    {
      "cell_type": "code",
      "source": [
        "df[['Temperature', 'Humidity', 'Wind speed', 'Rainfall', 'Snowfall', 'Rental Count']].corr()\n",
        "# давайте оставим меньшее количество столбцов, чтобы с ними было удобно работать"
      ],
      "metadata": {
        "id": "HqMnYUYXFe3v"
      },
      "execution_count": null,
      "outputs": []
    },
    {
      "cell_type": "code",
      "source": [
        "# можно включить тепловую карту прямо в матрицу корреляций:\n",
        "df2 = df[['Temperature', 'Humidity', 'Wind speed', 'Rainfall', 'Snowfall', 'Rental Count']]\n",
        "df2.corr().style.background_gradient(cmap='coolwarm')"
      ],
      "metadata": {
        "id": "6FULkhixW8Wr"
      },
      "execution_count": null,
      "outputs": []
    },
    {
      "cell_type": "markdown",
      "source": [
        "Корреляция Пирсона, Кендалла и Спирмена в pandas в настоящее время рассчитывается с использованием попарно полных наблюдений (исключая значения NA/null)"
      ],
      "metadata": {
        "id": "6atk1eDRXov9"
      }
    },
    {
      "cell_type": "code",
      "source": [
        "# Из документации: Method of correlation:\n",
        "#pearson : standard correlation coefficient\n",
        "#kendall : Kendall Tau correlation coefficient\n",
        "#spearman : Spearman rank correlation\n",
        "\n",
        "# рассчитаем все 3 коэффициента, найдем различия\n",
        "df2.corr('pearson') # для числовых (в идеале - непрерывных) переменных"
      ],
      "metadata": {
        "id": "HcVPxYsYFu_e"
      },
      "execution_count": null,
      "outputs": []
    },
    {
      "cell_type": "code",
      "source": [
        "df3 = df[['Good Weather', 'Rental Count']]\n",
        "df3.corr('spearman') # коэф. Спирмена считается для 1 порядковой переменной (шкала лучше - хуже) и одной количественной"
      ],
      "metadata": {
        "id": "jkbgGHPp7Dmm"
      },
      "execution_count": null,
      "outputs": []
    },
    {
      "cell_type": "code",
      "source": [
        "df4 = df[['Good Weather', 'Normal Humidity']] # в идеале должны быть 2 переменных, измеренных в порядковой шкале\n",
        "df3.corr('kendall')"
      ],
      "metadata": {
        "id": "C9Z6GDaymYYy"
      },
      "execution_count": null,
      "outputs": []
    },
    {
      "cell_type": "markdown",
      "source": [
        "### p-value\n",
        "\n",
        "К сожалению, в df.corr() по умолчанию не считается p-value"
      ],
      "metadata": {
        "id": "fSEs236bYE_l"
      }
    },
    {
      "cell_type": "code",
      "source": [
        "# рассчитаем p-value\n",
        "\n",
        "# документация https://docs.scipy.org/doc/scipy/reference/generated/scipy.stats.pearsonr.html\n",
        "from scipy import stats\n",
        "\n",
        "res = stats.pearsonr(df['Temperature'], df['Humidity'])\n",
        "res"
      ],
      "metadata": {
        "id": "aSY3t5tNHXIW"
      },
      "execution_count": null,
      "outputs": []
    },
    {
      "cell_type": "code",
      "source": [
        "res.pvalue < 0.05"
      ],
      "metadata": {
        "id": "YWqoWaYKHLFJ"
      },
      "execution_count": null,
      "outputs": []
    },
    {
      "cell_type": "markdown",
      "source": [
        "Аналогично:\n",
        "\n",
        "\n",
        "*   https://docs.scipy.org/doc/scipy-1.13.0/reference/generated/scipy.stats.spearmanr.html\n",
        "*   https://docs.scipy.org/doc/scipy/reference/generated/scipy.stats.kendalltau.html\n",
        "\n"
      ],
      "metadata": {
        "id": "F-mv41FRZBAj"
      }
    },
    {
      "cell_type": "markdown",
      "source": [
        "Дальше будем добавлять визуализацию"
      ],
      "metadata": {
        "id": "uMpoWNuALUoX"
      }
    },
    {
      "cell_type": "code",
      "source": [
        "# scatterplot\n",
        "import matplotlib.pyplot as plt\n",
        "import seaborn as sns\n",
        "\n",
        "plt.scatter(x = df['Temperature'], y = df['Rental Count']);"
      ],
      "metadata": {
        "id": "t_LtnFtuLUC5"
      },
      "execution_count": null,
      "outputs": []
    },
    {
      "cell_type": "code",
      "source": [
        "sns.heatmap(df2.corr());"
      ],
      "metadata": {
        "id": "TPH69InpoYBP"
      },
      "execution_count": null,
      "outputs": []
    },
    {
      "cell_type": "code",
      "source": [
        "# correlogram, или тепловая карта\n",
        "plt.figure(figsize=(12,10), dpi= 80) # размер картинки\n",
        "sns.heatmap(df2.corr(), cmap='RdYlGn', center=0, annot=True)\n",
        "plt.title('Correlogram', fontsize=22);"
      ],
      "metadata": {
        "id": "U8JKV7xFLZlO"
      },
      "execution_count": null,
      "outputs": []
    },
    {
      "cell_type": "code",
      "source": [
        "# seaborn pairplot\n",
        "# добавим переменную Good Weather (категориальная переменная позволяет задать цвет точкам по категориям)\n",
        "sns.pairplot(df[['Temperature', 'Humidity', 'Wind speed', 'Rainfall', 'Snowfall', 'Rental Count', 'Good Weather']], hue='Good Weather');"
      ],
      "metadata": {
        "id": "2-k9V-faLcnV"
      },
      "execution_count": null,
      "outputs": []
    },
    {
      "cell_type": "markdown",
      "source": [
        "### Иногда нашим данным может помочь преобразование"
      ],
      "metadata": {
        "id": "k44CNNnW8lUN"
      }
    },
    {
      "cell_type": "code",
      "source": [
        "df['Date'] = pd.to_datetime(df['Date'])\n",
        "df.info()"
      ],
      "metadata": {
        "id": "kOIaq2gF8pNA"
      },
      "execution_count": null,
      "outputs": []
    },
    {
      "cell_type": "code",
      "source": [
        "df['Date'].dt.month"
      ],
      "metadata": {
        "id": "vZ6I1IXvIxgT"
      },
      "execution_count": null,
      "outputs": []
    },
    {
      "cell_type": "code",
      "source": [
        "bikes_sum = df.groupby(df['Date'].dt.month)['Rental Count'].sum()\n",
        "temp_median = df.groupby(df['Date'].dt.month)['Temperature'].median()\n",
        "humidity_median = df.groupby(df['Date'].dt.month)['Humidity'].median()\n",
        "wind_median = df.groupby(df['Date'].dt.month)['Wind speed'].median()\n",
        "\n",
        "df_month = pd.concat([bikes_sum, temp_median, humidity_median, wind_median], axis=1)\n",
        "df_month"
      ],
      "metadata": {
        "id": "KXcA08wK86Y1"
      },
      "execution_count": null,
      "outputs": []
    },
    {
      "cell_type": "code",
      "source": [
        "sns.heatmap(df_month.corr(), annot=True, cmap='RdYlGn', center=0)\n",
        "plt.title('Weeks', fontsize=22);"
      ],
      "metadata": {
        "id": "L4OBf0Po9Riw"
      },
      "execution_count": null,
      "outputs": []
    },
    {
      "cell_type": "code",
      "source": [
        "sns.pairplot(df_month);"
      ],
      "metadata": {
        "id": "D8QzzPO99Stp"
      },
      "execution_count": null,
      "outputs": []
    },
    {
      "cell_type": "markdown",
      "source": [
        "Важно! Что могло пойти не так:\n",
        "\n",
        "Временные ряды — это наборы данных, где каждая точка данных связана с определенным моментом времени\n",
        "\n",
        "Тренд будет оказывать результаты на корреляционный анализ - и показывать ложную корреляцию ([Как избежать ошибок при работе с временными рядами](https://www.svds.com/avoiding-common-mistakes-with-time-series/))\n",
        "\n",
        "См. подборку [безумных корреляций](https://rationalnumbers.ru/?go=all/bezumnye-korrelyacii/)"
      ],
      "metadata": {
        "id": "JFi1S0UhroN4"
      }
    },
    {
      "cell_type": "markdown",
      "source": [
        "### Задания\n",
        "\n",
        "1. Работаем с таблицей о сельскохозяйственных культурах ([Kaggle](https://www.kaggle.com/datasets/rishabhrathore055/datas/data))\n",
        "\n",
        "*   Постройте матрицу корреляций\n",
        "*   Визуализируйте в виде тепловой карты\n",
        "*   Найдите наибольший коэффициент корреляции\n",
        "*   Вычислите для него p-value"
      ],
      "metadata": {
        "id": "nfVeK2U5azpI"
      }
    },
    {
      "cell_type": "code",
      "source": [
        "df = pd.read_csv('https://raw.githubusercontent.com/AnnSenina/python_hse_2024/main/data/Crop_recommendation.csv')\n",
        "df"
      ],
      "metadata": {
        "id": "umdaEOnwbSVZ"
      },
      "execution_count": null,
      "outputs": []
    },
    {
      "cell_type": "code",
      "source": [],
      "metadata": {
        "id": "KCnXKHsGbSTD"
      },
      "execution_count": null,
      "outputs": []
    },
    {
      "cell_type": "code",
      "source": [],
      "metadata": {
        "id": "bYC2WnUibSQ9"
      },
      "execution_count": null,
      "outputs": []
    },
    {
      "cell_type": "code",
      "source": [],
      "metadata": {
        "id": "SJdCuZMsrMDi"
      },
      "execution_count": null,
      "outputs": []
    },
    {
      "cell_type": "markdown",
      "source": [
        "Решение"
      ],
      "metadata": {
        "id": "iCc2_hQprPD_"
      }
    },
    {
      "cell_type": "code",
      "source": [
        "# @title\n",
        "df = pd.read_csv('https://raw.githubusercontent.com/AnnSenina/python_hse_2024/main/data/Crop_recommendation.csv')\n",
        "df.corr(numeric_only=True)"
      ],
      "metadata": {
        "cellView": "form",
        "id": "JDc3oQ01rMa-"
      },
      "execution_count": null,
      "outputs": []
    },
    {
      "cell_type": "code",
      "source": [
        "# @title\n",
        "sns.heatmap(df.corr(numeric_only=True), center = 0, annot=True, cmap='RdYlGn');"
      ],
      "metadata": {
        "cellView": "form",
        "id": "S_vCEeIRvuFz"
      },
      "execution_count": null,
      "outputs": []
    },
    {
      "cell_type": "code",
      "source": [
        "# @title\n",
        "res = stats.pearsonr(df['temperature'], df['humidity'])\n",
        "res.pvalue < 0.05"
      ],
      "metadata": {
        "cellView": "form",
        "id": "TZ3t6N8av6Sf"
      },
      "execution_count": null,
      "outputs": []
    },
    {
      "cell_type": "markdown",
      "source": [
        "2. Работаем со старой таблицей государств-колоний\n",
        "\n",
        "\n",
        "\n",
        "*   Постройте матрицу корреляций\n",
        "*   Выберите любые 2 показателя, для которых корректно посчтитать коэффициент корреляции Спирмена; Кендалла\n",
        "*   Посчитайте соответсвтующие коэффициенты и p-value\n",
        "*   Возуалиируйте попарные корреляции с помощью plt.scatter()\n",
        "\n",
        "Пирсон (по умолчнаию) - числовая + числовая\n",
        "Спирмен - порядковая + числовая\n",
        "Кендалл - порядковая + порядковая\n",
        "\n"
      ],
      "metadata": {
        "id": "6wimvfqFbRdi"
      }
    },
    {
      "cell_type": "code",
      "source": [
        "df = pd.read_csv('https://raw.githubusercontent.com/AnnSenina/python_hse_2024/main/data/Colonial.csv', sep=';')\n",
        "# перекодируем все переменные\n",
        "df['decolonization'] = df['decolonization'].apply(lambda x: 1 if x == 'long' else 0)\n",
        "df['foreign trade'] = df['foreign trade'].apply(lambda x: 0 if x == 'not appl.' else (1 if x == 'open door' else 2))\n",
        "df['plantations'] = df['plantations'].apply(lambda x: 1 if x == 'little' else (2 if x == 'extensive' else 0))\n",
        "df['gold/silver'] = df['gold/silver'].apply(lambda x: 1 if x == 'little' else (2 if x == 'extensive' else 0))\n",
        "df = df.dropna()\n",
        "df"
      ],
      "metadata": {
        "id": "hyRu6iqnwnOT"
      },
      "execution_count": null,
      "outputs": []
    },
    {
      "cell_type": "code",
      "source": [],
      "metadata": {
        "id": "EP-tANVBxftd"
      },
      "execution_count": null,
      "outputs": []
    },
    {
      "cell_type": "code",
      "source": [],
      "metadata": {
        "id": "7YAX7ENUxflr"
      },
      "execution_count": null,
      "outputs": []
    },
    {
      "cell_type": "code",
      "source": [],
      "metadata": {
        "id": "dnaz5ZJtyyPE"
      },
      "execution_count": null,
      "outputs": []
    },
    {
      "cell_type": "code",
      "source": [],
      "metadata": {
        "id": "jOVt696IyyGh"
      },
      "execution_count": null,
      "outputs": []
    },
    {
      "cell_type": "code",
      "source": [
        "# @title\n",
        "\n",
        "res = stats.spearmanr(df['COLYEARS'], df['violence'])\n",
        "print(res)\n",
        "res.pvalue < 0.05"
      ],
      "metadata": {
        "cellView": "form",
        "id": "U0a0-qC8xgEK"
      },
      "execution_count": null,
      "outputs": []
    },
    {
      "cell_type": "code",
      "source": [
        "# @title\n",
        "plt.scatter(df['COLYEARS'], df['violence']); # связь слабая -> практически отсутствует"
      ],
      "metadata": {
        "cellView": "form",
        "id": "QztFnzeIyGX7"
      },
      "execution_count": null,
      "outputs": []
    },
    {
      "cell_type": "code",
      "source": [
        "# @title\n",
        "res = stats.kendalltau(df['violence'], df['foreign trade'])\n",
        "print(res)\n",
        "res.pvalue < 0.05"
      ],
      "metadata": {
        "cellView": "form",
        "id": "aVDmAh9lxgBm"
      },
      "execution_count": null,
      "outputs": []
    },
    {
      "cell_type": "code",
      "source": [
        "# @title\n",
        "plt.scatter(df['violence'], df['foreign trade']); # связь слабая"
      ],
      "metadata": {
        "cellView": "form",
        "id": "50CVStmIyZNp"
      },
      "execution_count": null,
      "outputs": []
    },
    {
      "cell_type": "code",
      "source": [
        "# @title\n",
        "# можно также построить всю матрицу - но будьте внимательны, не каждой паре наблюдений подходит выбранный метод рассчета корреляции\n",
        "\n",
        "df.corr('spearman', numeric_only=True)\n",
        "# df.corr('kendall', numeric_only=True)"
      ],
      "metadata": {
        "cellView": "form",
        "id": "IVC4f8CAyxtz"
      },
      "execution_count": null,
      "outputs": []
    }
  ]
}