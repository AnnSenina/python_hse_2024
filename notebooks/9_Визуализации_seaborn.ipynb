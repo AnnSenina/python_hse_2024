{
  "nbformat": 4,
  "nbformat_minor": 0,
  "metadata": {
    "colab": {
      "provenance": [],
      "authorship_tag": "ABX9TyOP7Vn0xG1GPMdqwprbbnVH",
      "include_colab_link": true
    },
    "kernelspec": {
      "name": "python3",
      "display_name": "Python 3"
    },
    "language_info": {
      "name": "python"
    }
  },
  "cells": [
    {
      "cell_type": "markdown",
      "metadata": {
        "id": "view-in-github",
        "colab_type": "text"
      },
      "source": [
        "<a href=\"https://colab.research.google.com/github/AnnSenina/python_hse_2024/blob/main/notebooks/9_%D0%92%D0%B8%D0%B7%D1%83%D0%B0%D0%BB%D0%B8%D0%B7%D0%B0%D1%86%D0%B8%D0%B8_seaborn.ipynb\" target=\"_parent\"><img src=\"https://colab.research.google.com/assets/colab-badge.svg\" alt=\"Open In Colab\"/></a>"
      ]
    },
    {
      "cell_type": "markdown",
      "source": [
        "# Визуализации_ Категориальные данные"
      ],
      "metadata": {
        "id": "Oi4qKEXhD3bw"
      }
    },
    {
      "cell_type": "code",
      "source": [
        "# все import разом\n",
        "\n",
        "import numpy as np\n",
        "import pandas as pd\n",
        "import matplotlib.pyplot as plt\n",
        "import seaborn as sns"
      ],
      "metadata": {
        "id": "Ce1Ok2OuDBoU"
      },
      "execution_count": 93,
      "outputs": []
    },
    {
      "cell_type": "markdown",
      "source": [
        "Простые графики можно строить в matplotlib (а еще он отлично интергрирован с pandas), но работать категориальными данными удобнее в seaborn\n",
        "\n",
        "Seaborn — это более новая надстройка над matplotlib, которая заметно проще и \"сразу делает красиво\" (но эта работа происходит незаметно для нас, внутри - \"под капотом\"). Документация [здесь](https://seaborn.pydata.org/)\n",
        "\n",
        "Часто категориальные данные просто показызывают цветом на графиках, визуализирующих распределение числовых переменных"
      ],
      "metadata": {
        "id": "fWpsbvm0EAsF"
      }
    },
    {
      "cell_type": "code",
      "source": [
        "tips = sns.load_dataset(\"tips\") # один из стандартных датасетов в seaborn\n",
        "tips"
      ],
      "metadata": {
        "id": "OBW-F4n10GI1"
      },
      "execution_count": null,
      "outputs": []
    },
    {
      "cell_type": "code",
      "source": [
        "sns.lineplot(x = tips.index, y = 'total_bill', data = tips)\n",
        "sns.lineplot(x = tips.index, y = 'tip', data = tips);"
      ],
      "metadata": {
        "id": "3NRniv4N0QFc"
      },
      "execution_count": null,
      "outputs": []
    },
    {
      "cell_type": "code",
      "source": [
        "# можно еще проще:\n",
        "sns.lineplot(data = tips[['total_bill', 'tip']]);"
      ],
      "metadata": {
        "id": "tIHE15Sg06je"
      },
      "execution_count": null,
      "outputs": []
    },
    {
      "cell_type": "markdown",
      "source": [
        "Давайте визуализируем распределения общего счета по дням недели. Для визуализации потребуется метод .catplot() Заголовки соответвующих ячеек присвоим аргументам x и y.\n",
        "\n",
        "x для такого типа графики - столбец для группировки.\n",
        "\n",
        "Тип отображения (параметр kind) тоже можно менять (попробуйте \"point\", \"bar\", \"strip\", \"swarm\", \"box\", \"violin\" или \"boxen\")"
      ],
      "metadata": {
        "id": "3rtGqRqz1Xnp"
      }
    },
    {
      "cell_type": "code",
      "source": [
        "sns.catplot(x = \"day\", y = \"total_bill\", kind= \"violin\", data = tips);"
      ],
      "metadata": {
        "id": "y_bFx56a1PA5"
      },
      "execution_count": null,
      "outputs": []
    },
    {
      "cell_type": "markdown",
      "source": [
        "Можно достаточно легко и быстро отобразить на графике несколько показателей:\n",
        "\n",
        "Ниже - распределение значений итогового счета (ось y), сгруппированного по полу (ось x). Дополнительно цветом (параметр hue) можно закодировать еще одно значение с помощью цвета. Например,является ли посетитель курильщиком"
      ],
      "metadata": {
        "id": "qXSbwha11eX4"
      }
    },
    {
      "cell_type": "code",
      "source": [
        "sns.catplot(x = \"sex\", y = \"total_bill\", hue = \"smoker\", kind = \"bar\", data = tips);"
      ],
      "metadata": {
        "id": "EOYaYTtH1O-M"
      },
      "execution_count": null,
      "outputs": []
    },
    {
      "cell_type": "code",
      "source": [
        "sns.catplot(x = \"total_bill\", y = \"tip\", kind = \"strip\", hue='sex', data=tips);\n",
        "# что идет не так: x - не категориальный показатель, а числовой\n",
        "# более удачный вариант этой визуализации - jointplot"
      ],
      "metadata": {
        "id": "ZfRT2CDR1O2O"
      },
      "execution_count": null,
      "outputs": []
    },
    {
      "cell_type": "code",
      "source": [
        "# jointplot - показывает распределение по 2 числовым переменным + в hue можно добавить категориальные данные\n",
        "sns.jointplot(x ='total_bill', y = 'tip', hue = 'sex', data = tips);"
      ],
      "metadata": {
        "id": "3BLkv9WwD1WH"
      },
      "execution_count": null,
      "outputs": []
    },
    {
      "cell_type": "code",
      "source": [
        "# можно строить линейную регрессию (для определения зависимости двух показателей, рассчитывается функция линейной зависимости)\n",
        "# lmplot - модель линейной регресии\n",
        "sns.lmplot(x ='total_bill', y = 'tip', data = tips);"
      ],
      "metadata": {
        "id": "5ehuZZk92ejp"
      },
      "execution_count": null,
      "outputs": []
    },
    {
      "cell_type": "code",
      "source": [
        "# заодно проверим, меняются ли счет / чаевые в связи со временем посещения - в обед или ужин\n",
        "sns.lmplot(x ='total_bill', y = 'tip', hue = 'time', data = tips);"
      ],
      "metadata": {
        "id": "eALRVyF4EDyo"
      },
      "execution_count": null,
      "outputs": []
    },
    {
      "cell_type": "code",
      "source": [
        "# из тетрадки по корреляциям:\n",
        "sns.pairplot(tips[['total_bill', 'tip', 'time']], hue = 'time');"
      ],
      "metadata": {
        "id": "GQIbISa3Gjxo"
      },
      "execution_count": null,
      "outputs": []
    },
    {
      "cell_type": "code",
      "source": [
        "sns.heatmap(tips.corr(numeric_only=True), annot=True, center = 0, cmap='RdYlGn');"
      ],
      "metadata": {
        "id": "CuMRyt_zG-GX"
      },
      "execution_count": null,
      "outputs": []
    },
    {
      "cell_type": "markdown",
      "source": [
        "### Задание\n",
        "\n",
        "Ниже - загрузка датасета про пингвинов из seaborn (можно найти на гитхабе создателей библиотеки или нашем гитхабе курса)\n",
        "\n",
        "Постройте:\n",
        "\n",
        "- catplot\n",
        "- jointplot\n",
        "- lmplot\n",
        "(для любых показателей на ваш выбор)"
      ],
      "metadata": {
        "id": "gtTyVi1o2Xyo"
      }
    },
    {
      "cell_type": "code",
      "source": [
        "peng_data = sns.load_dataset('penguins') # еще один из стандартных датасетов в seaborn\n",
        "peng_data"
      ],
      "metadata": {
        "id": "Z7iR6fTV2y8s"
      },
      "execution_count": null,
      "outputs": []
    },
    {
      "cell_type": "code",
      "source": [],
      "metadata": {
        "id": "25LsiWSg20Op"
      },
      "execution_count": null,
      "outputs": []
    },
    {
      "cell_type": "code",
      "source": [],
      "metadata": {
        "id": "_J01wwzi2y2Y"
      },
      "execution_count": null,
      "outputs": []
    },
    {
      "cell_type": "code",
      "source": [],
      "metadata": {
        "id": "LTvHwPkH2ys2"
      },
      "execution_count": null,
      "outputs": []
    },
    {
      "cell_type": "code",
      "source": [
        "# @title\n",
        "sns.catplot(x = \"species\", y = \"bill_depth_mm\", kind = \"strip\", hue='island', data=peng_data);"
      ],
      "metadata": {
        "cellView": "form",
        "id": "1Tzx0-ek2-F0"
      },
      "execution_count": null,
      "outputs": []
    },
    {
      "cell_type": "code",
      "source": [
        "# @title\n",
        "sns.jointplot(x = \"bill_length_mm\", y = \"flipper_length_mm\", hue = \"species\", data=peng_data);"
      ],
      "metadata": {
        "id": "T0oEjwyEEDwG",
        "cellView": "form"
      },
      "execution_count": null,
      "outputs": []
    },
    {
      "cell_type": "code",
      "source": [
        "# @title\n",
        "sns.lmplot(x = \"bill_length_mm\", y = \"flipper_length_mm\", hue = \"species\", data=peng_data);"
      ],
      "metadata": {
        "id": "mojfr7NxEDtk",
        "cellView": "form"
      },
      "execution_count": null,
      "outputs": []
    },
    {
      "cell_type": "markdown",
      "source": [
        "О регрессии мы еще поговорим в будущем...\n",
        "\n",
        "Но сейчас мы займемся категориальными данными вплотную :)\n",
        "\n",
        "На них можно тестировать статистические гипотезы, проверять связь между двумя категориальными переменными и т.д."
      ],
      "metadata": {
        "id": "7YoGK88RELYw"
      }
    }
  ]
}