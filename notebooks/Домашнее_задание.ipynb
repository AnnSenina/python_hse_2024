{
  "nbformat": 4,
  "nbformat_minor": 0,
  "metadata": {
    "colab": {
      "provenance": [],
      "authorship_tag": "ABX9TyPiNFzYu8V0mBRnxhTvR5Qu",
      "include_colab_link": true
    },
    "kernelspec": {
      "name": "python3",
      "display_name": "Python 3"
    },
    "language_info": {
      "name": "python"
    }
  },
  "cells": [
    {
      "cell_type": "markdown",
      "metadata": {
        "id": "view-in-github",
        "colab_type": "text"
      },
      "source": [
        "<a href=\"https://colab.research.google.com/github/AnnSenina/python_hse_2024/blob/main/notebooks/%D0%94%D0%BE%D0%BC%D0%B0%D1%88%D0%BD%D0%B5%D0%B5_%D0%B7%D0%B0%D0%B4%D0%B0%D0%BD%D0%B8%D0%B5.ipynb\" target=\"_parent\"><img src=\"https://colab.research.google.com/assets/colab-badge.svg\" alt=\"Open In Colab\"/></a>"
      ]
    },
    {
      "cell_type": "markdown",
      "source": [
        "# Домашнее задание\n",
        "\n",
        "Не является обязательным к выполнению (но если сделаете и захотите прислать, конечно, я проверю)\n",
        "\n",
        "- найти интересующий вас набор данных по любой теме\n",
        "- подготовить данные для анализа:\n",
        "  - проверить наличие пропусков (если они есть - удалить / заполнить)\n",
        "  - изменить тип данных в pandas, перекодировать переменные (если требуется)\n",
        "  - проверить данные на выбросы\n",
        "\n",
        "Если не нашли данные, но хотите потренироваться: ниже будет датасет-пример [отсюда](https://www.kaggle.com/datasets/katyjqian/charity-navigator-scores-expenses-dataset)"
      ],
      "metadata": {
        "id": "P4hykKkYCgTj"
      }
    },
    {
      "cell_type": "code",
      "execution_count": null,
      "metadata": {
        "id": "iPrK1N4pCcr7"
      },
      "outputs": [],
      "source": [
        "import pandas as pd\n",
        "df = pd.read_csv('https://raw.githubusercontent.com/AnnSenina/python_hse_2024/main/data/CLEAN_charity_data.csv')\n",
        "df"
      ]
    },
    {
      "cell_type": "code",
      "source": [],
      "metadata": {
        "id": "oe-7UmoeEdPg"
      },
      "execution_count": null,
      "outputs": []
    },
    {
      "cell_type": "code",
      "source": [],
      "metadata": {
        "id": "WC88RuMBEdG4"
      },
      "execution_count": null,
      "outputs": []
    },
    {
      "cell_type": "code",
      "source": [],
      "metadata": {
        "id": "jLiRXae8EdEF"
      },
      "execution_count": null,
      "outputs": []
    }
  ]
}